{
  "nbformat": 4,
  "nbformat_minor": 0,
  "metadata": {
    "colab": {
      "name": "team_65_ails_exc1.ipynb",
      "provenance": [],
      "toc_visible": true
    },
    "kernelspec": {
      "name": "python3",
      "display_name": "Python 3"
    }
  },
  "cells": [
    {
      "cell_type": "markdown",
      "metadata": {
        "id": "D2z0x0VlJrtE"
      },
      "source": [
        "# Νευρωνικά Δίκτυα και Ευφυή Υπολογιστικά Συστήματα\r\n",
        "# Άσκηση 1 : Επιβλεπόμενη Μάθηση\r\n",
        "# Ομάδα 65 \r\n",
        "\r\n",
        "> Αριστείδης Βασιλάκης 03116142\r\n",
        "\r\n",
        "> Δημήτριος Μυλωνάκης 03115742\r\n",
        "\r\n",
        "> Ευγένι Δούφας 03115728\r\n"
      ]
    },
    {
      "cell_type": "markdown",
      "metadata": {
        "id": "V-gEkzSHj7rj"
      },
      "source": [
        "# 1ο Μέρος\n"
      ]
    },
    {
      "cell_type": "markdown",
      "metadata": {
        "id": "bjddk1rilEBy"
      },
      "source": [
        "## Περιγραφή του Dataset\n",
        "\n",
        "To dataset **S05** περιέχει 165 δείγματα που αφορούν περιπτώσεις ασθενών με ηπατοκυτταρικό καρκίνωμα (HCC). Kάθε δείγμα περιέχει τιμές που αντιστοιχούν σε **49 χαρακτηριστικά** (attributes) και τέλος κατηγοποιείται σε κατηγορία σε ανάλογα με την επιβίωση του ασθενούς σε διάστημα ένος χρόνου. Στην 50η (η οποία είναι η τελευταία) τιμη συμβολίζεται με *1* αν επιβίωσε ο ασθενης και με *0* αν όχι.\n",
        "\n",
        "Σύμφωνα με τη περγραφή του Dataset, μόνο 3 χαρακτηριστικά αναφέρονται ως διατεταγμένα (ordinal). Aυτά έιναι τα \"Performance Status\", \"Encephalopathy Degree\" και \"Ascites Degree\" τα οποία αντιστοιχόυν στις κολόνες 26, 27 και 28. Δεν υπάρχουν επικεφαλίδες στο Dataset αλλά αναφέρονται οι τίτλοι των χαρακτηριστικών στο κέιμενο περιγραφής του ενώ επίσης δεν υπάρχει αρίθμηση των γραμμών.\n",
        "\n"
      ]
    },
    {
      "cell_type": "markdown",
      "metadata": {
        "id": "FTAC42YTpMkn"
      },
      "source": [
        "##Προετοιμασία και αλλαγές στο Dataset\n",
        "\n",
        "Όποιες αλλαγές χρειάστηκε να γίνουν πραγματοποιούνται με κώδικα εδω. Αρχικά, χρειάστηκε να αλλαχθεί ο συμβολισμός των απουσιάζουσων τιμων απο *?* σε *ΝaN* διότι έπρεπε να εντοπίζονται σωστά απο τα εργαλεία που χρησιμοποιήθηκαν αργότερα για να τις συμπληρώσουν.\n",
        "\n",
        "Σύμφωνα με τη περιγραφή του Dataset, μόνο περίπου 8 δείγματα έχουν συμπληρωμένες τιμές για όλα τα χαρακτηριστικά τους και οι απουσιάζουσες τιμές αντιπροσωπεύουν περίπου 10% του συνόλου αυτών. Επιπλέον χρειάστηκε να γίνει κανονικόποιηση στα δεδομένα του dataset και έγιναν δοκιμές με διαφορετικές στρατηγικές για κάθε ταξινομητή που έδωσαν διαφορετικά αποτελέσματα που παρουσιάζονται παρακάτω. Το ίδιο έγινε βέβαια και για τη στρατηγική συμπλήρωσης των κενών. \n",
        "\n",
        "To dataset δεν είναι ισορροοπημένο καθώς οι συνολικές περιπτώσεις θανόντων αντιστοιχόυν στο 35% του συνόλου. Γι' αυτό το λόγο χρησιμοποιήθηκαν στρατηγικές εξισορρόπησης τους.\n",
        "\n",
        "Αξίζει επίσης να σημειωθεί ότι αποφασίστηκε να μην γίνει απόπειρα μέιωσης της διαστατικότητας καθώς σε ένα μικρό dataset όπως αυτό πιθανότατα δεν θα επέφερε αξιοσημείωτο όφελος."
      ]
    },
    {
      "cell_type": "markdown",
      "metadata": {
        "id": "nbQT3IY7s2rr"
      },
      "source": [
        "##Αρχικά γίνεται upload του Dataset και μετρατροπή των *?* σε *NaN*"
      ]
    },
    {
      "cell_type": "code",
      "metadata": {
        "id": "NcQLFnn6n5Ip",
        "colab": {
          "resources": {
            "http://localhost:8080/nbextensions/google.colab/files.js": {
              "data": "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",
              "ok": true,
              "headers": [
                [
                  "content-type",
                  "application/javascript"
                ]
              ],
              "status": 200,
              "status_text": "OK"
            }
          },
          "base_uri": "https://localhost:8080/",
          "height": 73
        },
        "outputId": "fa61c205-3aaf-42ff-c711-f4f0e0a4b91e"
      },
      "source": [
        "import pandas as pd\n",
        "import numpy as np\n",
        "\n",
        "from google.colab import files\n",
        "uploaded = files.upload()\n",
        "\n",
        "df = pd.read_csv(\"hcc-data.txt\", header=None)\n",
        "df.replace('?',np.NaN,inplace=True)"
      ],
      "execution_count": null,
      "outputs": [
        {
          "output_type": "display_data",
          "data": {
            "text/html": [
              "\n",
              "     <input type=\"file\" id=\"files-c2d66116-716f-46a5-ba84-77caba0ecbb5\" name=\"files[]\" multiple disabled\n",
              "        style=\"border:none\" />\n",
              "     <output id=\"result-c2d66116-716f-46a5-ba84-77caba0ecbb5\">\n",
              "      Upload widget is only available when the cell has been executed in the\n",
              "      current browser session. Please rerun this cell to enable.\n",
              "      </output>\n",
              "      <script src=\"/nbextensions/google.colab/files.js\"></script> "
            ],
            "text/plain": [
              "<IPython.core.display.HTML object>"
            ]
          },
          "metadata": {
            "tags": []
          }
        },
        {
          "output_type": "stream",
          "text": [
            "Saving hcc-data.txt to hcc-data (3).txt\n"
          ],
          "name": "stdout"
        }
      ]
    },
    {
      "cell_type": "markdown",
      "metadata": {
        "id": "Cdd9iRlBhGmm"
      },
      "source": [
        "##Συμπλήρωση κενών τιμών πριν γίνει ο διαχωρισμός σε σύνολα Train και Test\n",
        "\n",
        "Οι στρατηγικές που έχει νόημα να συγκριθούν είναι οι εξής:\n",
        "\n",
        "1.   Συμπλήρωση με τη πιο σύνηθη τιμή στη κάθε κολόνα.\n",
        "2.   Συμπλήρωση με το μέσο όρο των τιμών στη κάθε κολόνα.\n",
        "3.   Συμπλήρωση με το διάμεσο των τιμών στην κάθε κολόνα.\n",
        "\n",
        "Για πεδία που παίρνουν τιμές *0* ή *1* οι στρατηγικές 1 και 3 είναι ισοδύναμες. Αυτά αντιστοιχούν περίπου στις μισές τιμές του dataset.\n",
        "\n",
        "Θα γινει αρχικά δοκιμή και με τις τρείς στρατηγικές για όλα τα χαρακτηριστικά των δειγμάτων."
      ]
    },
    {
      "cell_type": "code",
      "metadata": {
        "id": "diPNBxfWD-4l"
      },
      "source": [
        "from sklearn.impute import SimpleImputer\n",
        "\n",
        "impmean=SimpleImputer(missing_values=np.NaN,strategy='mean')\n",
        "impfreq=SimpleImputer(missing_values=np.NaN,strategy='most_frequent')\n",
        "impmedian=SimpleImputer(missing_values=np.NaN,strategy='median')\n",
        "\n",
        "idfmean=pd.DataFrame(impmean.fit_transform(df))\n",
        "idffreq=pd.DataFrame(impfreq.fit_transform(df))\n",
        "idfmedian=pd.DataFrame(impmedian.fit_transform(df))"
      ],
      "execution_count": null,
      "outputs": []
    },
    {
      "cell_type": "markdown",
      "metadata": {
        "id": "1hH3yQFyO_Hn"
      },
      "source": [
        "##Διαχωρισμός 80-20 σε Train και Test sets"
      ]
    },
    {
      "cell_type": "code",
      "metadata": {
        "id": "vrYmKK3cO_kF"
      },
      "source": [
        "trainmean, testmean = np.split(idfmean, [int(.8*len(idfmean))])\n",
        "trainfreq, testfreq = np.split(idffreq, [int(.8*len(idffreq))])\n",
        "trainmedian, testmedian = np.split(idfmedian, [int(.8*len(idfmedian))])"
      ],
      "execution_count": null,
      "outputs": []
    },
    {
      "cell_type": "markdown",
      "metadata": {
        "id": "ZJQbe4jdJLcc"
      },
      "source": [
        "##Κανονικοποίηση του συνόλου Train και του Test (με τις παράμετρους του train)\n",
        "\n",
        "Θα δοκιμασθούν οι στρατηγικές Standardization και min-max.\n"
      ]
    },
    {
      "cell_type": "markdown",
      "metadata": {
        "id": "Fd486n_r8t04"
      },
      "source": [
        "Κανονικοποιόυμε με τις μεθόδους minmax και z-score τα δεδομένα εκπαίδευσης και τα δεδομένα δοκιμής (σύμφωνα με τις παραμέτρους όμως που βρέθηκαν για τα δεδομένα εκπάιδευσης). Έφοσον προηγούμενως έιχαμε 3 περιπτώσεις (μια για κάθε μέθοδο συμπλήρωσης των κενών τιμών), θα πάρουμε τώρα 6 διαφορετικές περιπτώσεις για να δοκιμάσουμε."
      ]
    },
    {
      "cell_type": "code",
      "metadata": {
        "id": "I_CGS8VZOZV7"
      },
      "source": [
        "from sklearn import preprocessing\n",
        "\n",
        "trainmeanattr, trainmeanlabels = np.hsplit(trainmean.values, [49])\n",
        "scaledmeantrainattr = preprocessing.scale(trainmeanattr)\n",
        "scaledmeantrain = np.hstack((scaledmeantrainattr, trainmeanlabels))\n",
        "\n",
        "trainmedianattr, trainmedianlabels = np.hsplit(trainmedian.values, [49])\n",
        "scaledmediantrainattr = preprocessing.scale(trainmedianattr)\n",
        "scaledmediantrain = np.hstack((scaledmediantrainattr, trainmedianlabels))\n",
        "\n",
        "trainfreqattr, trainfreqlabels = np.hsplit(trainfreq.values, [49])\n",
        "scaledfreqtrainattr = preprocessing.scale(trainfreqattr)\n",
        "scaledfreqtrain = np.hstack((scaledfreqtrainattr, trainfreqlabels))\n",
        "\n",
        "trainmeanattr, trainmeanlabels = np.hsplit(trainmean.values, [49])\n",
        "minmaxmeantrainattr = preprocessing.minmax_scale(trainmeanattr)\n",
        "minmaxmeantrain = np.hstack((minmaxmeantrainattr, trainmeanlabels))\n",
        "\n",
        "trainmedianattr, trainmedianlabels = np.hsplit(trainmedian.values, [49])\n",
        "minmaxmediantrainattr = preprocessing.minmax_scale(trainmedianattr)\n",
        "minmaxmediantrain = np.hstack((minmaxmediantrainattr, trainmedianlabels))\n",
        "\n",
        "trainfreqattr, trainfreqlabels = np.hsplit(trainfreq.values, [49])\n",
        "minmaxfreqtrainattr = preprocessing.minmax_scale(trainfreqattr)\n",
        "minmaxfreqtrain = np.hstack((minmaxfreqtrainattr, trainfreqlabels))"
      ],
      "execution_count": null,
      "outputs": []
    },
    {
      "cell_type": "code",
      "metadata": {
        "id": "_ilNHGwL9itD"
      },
      "source": [
        "meanscaler = preprocessing.StandardScaler().fit(trainmeanattr)\n",
        "testmeanattr, testmeanlabels = np.hsplit(testmean.values, [49])\n",
        "scaledmeantestattr = meanscaler.transform(testmeanattr)\n",
        "scaledmeantest = np.hstack((scaledmeantestattr, testmeanlabels))\n",
        "\n",
        "freqscaler = preprocessing.StandardScaler().fit(trainfreqattr)\n",
        "testfreqattr, testfreqlabels = np.hsplit(testfreq.values, [49])\n",
        "scaledfreqtestattr = freqscaler.transform(testfreqattr)\n",
        "scaledfreqtest = np.hstack((scaledfreqtestattr, testfreqlabels))\n",
        "\n",
        "medianscaler = preprocessing.StandardScaler().fit(trainmedianattr)\n",
        "testmedianattr, testmedianlabels = np.hsplit(testmedian.values, [49])\n",
        "scaledmediantestattr = medianscaler.transform(testmedianattr)\n",
        "scaledmediantest = np.hstack((scaledmediantestattr, testmedianlabels))\n",
        "\n",
        "meanscaler = preprocessing.MinMaxScaler().fit(trainmeanattr)\n",
        "testmeanattr, testmeanlabels = np.hsplit(testmean.values, [49])\n",
        "minmaxmeantestattr = meanscaler.transform(testmeanattr)\n",
        "minmaxmeantest = np.hstack((minmaxmeantestattr, testmeanlabels))\n",
        "\n",
        "freqscaler = preprocessing.MinMaxScaler().fit(trainfreqattr)\n",
        "testfreqattr, testfreqlabels = np.hsplit(testfreq.values, [49])\n",
        "minmaxfreqtestattr = freqscaler.transform(testfreqattr)\n",
        "minmaxfreqtest = np.hstack((minmaxfreqtestattr, testfreqlabels))\n",
        "\n",
        "medianscaler = preprocessing.MinMaxScaler().fit(trainmedianattr)\n",
        "testmedianattr, testmedianlabels = np.hsplit(testmedian.values, [49])\n",
        "minmaxmediantestattr = medianscaler.transform(testmedianattr)\n",
        "minmaxmediantest = np.hstack((minmaxmediantestattr, testmedianlabels))"
      ],
      "execution_count": null,
      "outputs": []
    },
    {
      "cell_type": "markdown",
      "metadata": {
        "id": "ehrQNuRlN0LD"
      },
      "source": [
        "##Εξισορρόπηση των δεδομένων εκπαίδευσης\n",
        "\n",
        "Η μέθοδος που θα ακολουθηθεί αντιγράφει και προσθέτει τυχαία δείγματα της κλάσης με τα λιγότερα δείγματα στο σύνολο των δειγμάτων εκπαίδευσης για τις 6 περιπτώσεις προς δοκιμή."
      ]
    },
    {
      "cell_type": "code",
      "metadata": {
        "colab": {
          "base_uri": "https://localhost:8080/"
        },
        "id": "Umt1LodTM2pJ",
        "outputId": "54d5e964-ae7f-4d1a-f385-8acb6588c8aa"
      },
      "source": [
        "from imblearn.over_sampling import RandomOverSampler\n",
        "ros = RandomOverSampler(random_state=0)\n",
        "\n",
        "scaledmeantrainattr, scaledmeantrainlabels = np.hsplit(scaledmeantrain, [49])\n",
        "balscaledmeantrainattr, balscaledmeantrainlabels = ros.fit_sample(scaledmeantrainattr, scaledmeantrainlabels.astype(int).ravel())\n",
        "\n",
        "scaledmediantrainattr, scaledmediantrainlabels = np.hsplit(scaledmediantrain, [49])\n",
        "balscaledmediantrainattr, balscaledmediantrainlabels = ros.fit_sample(scaledmediantrainattr, scaledmediantrainlabels.astype(int).ravel())\n",
        "\n",
        "scaledfreqtrainattr, scaledfreqtrainlabels = np.hsplit(scaledfreqtrain, [49])\n",
        "balscaledfreqtrainattr, balscaledfreqtrainlabels = ros.fit_sample(scaledfreqtrainattr, scaledfreqtrainlabels.astype(int).ravel())\n",
        "\n",
        "minmaxfreqtrainattr, minmaxfreqtrainlabels = np.hsplit(minmaxfreqtrain, [49])\n",
        "balminmaxfreqtrainattr, balminmaxfreqtrainlabels = ros.fit_sample(minmaxfreqtrainattr, minmaxfreqtrainlabels.astype(int).ravel())\n",
        "\n",
        "minmaxmeantrainattr, minmaxmeantrainlabels = np.hsplit(minmaxmeantrain, [49])\n",
        "balminmaxmeantrainattr, balminmaxmeantrainlabels = ros.fit_sample(minmaxmeantrainattr, minmaxmeantrainlabels.astype(int).ravel())\n",
        "\n",
        "minmaxmediantrainattr, minmaxmediantrainlabels = np.hsplit(minmaxmediantrain, [49])\n",
        "balminmaxmediantrainattr, balminmaxmediantrainlabels = ros.fit_sample(minmaxmediantrainattr, minmaxmediantrainlabels.astype(int).ravel())"
      ],
      "execution_count": null,
      "outputs": [
        {
          "output_type": "stream",
          "text": [
            "/usr/local/lib/python3.6/dist-packages/sklearn/utils/deprecation.py:87: FutureWarning: Function safe_indexing is deprecated; safe_indexing is deprecated in version 0.22 and will be removed in version 0.24.\n",
            "  warnings.warn(msg, category=FutureWarning)\n",
            "/usr/local/lib/python3.6/dist-packages/sklearn/utils/deprecation.py:87: FutureWarning: Function safe_indexing is deprecated; safe_indexing is deprecated in version 0.22 and will be removed in version 0.24.\n",
            "  warnings.warn(msg, category=FutureWarning)\n",
            "/usr/local/lib/python3.6/dist-packages/sklearn/utils/deprecation.py:87: FutureWarning: Function safe_indexing is deprecated; safe_indexing is deprecated in version 0.22 and will be removed in version 0.24.\n",
            "  warnings.warn(msg, category=FutureWarning)\n",
            "/usr/local/lib/python3.6/dist-packages/sklearn/utils/deprecation.py:87: FutureWarning: Function safe_indexing is deprecated; safe_indexing is deprecated in version 0.22 and will be removed in version 0.24.\n",
            "  warnings.warn(msg, category=FutureWarning)\n",
            "/usr/local/lib/python3.6/dist-packages/sklearn/utils/deprecation.py:87: FutureWarning: Function safe_indexing is deprecated; safe_indexing is deprecated in version 0.22 and will be removed in version 0.24.\n",
            "  warnings.warn(msg, category=FutureWarning)\n",
            "/usr/local/lib/python3.6/dist-packages/sklearn/utils/deprecation.py:87: FutureWarning: Function safe_indexing is deprecated; safe_indexing is deprecated in version 0.22 and will be removed in version 0.24.\n",
            "  warnings.warn(msg, category=FutureWarning)\n"
          ],
          "name": "stderr"
        }
      ]
    },
    {
      "cell_type": "markdown",
      "metadata": {
        "id": "F6ysX_wxkOXM"
      },
      "source": [
        "##Classifiers\r\n"
      ]
    },
    {
      "cell_type": "markdown",
      "metadata": {
        "id": "4MwMnvq7YHDm"
      },
      "source": [
        "###Dummy Classifier\n",
        "\n",
        "Θα γίνει δοκιμή του dummy classifier με τη μέθοδο uniform. Aυτός ο ταξινομητής θα αναθέτει τυχαίες τιμές για τις ετικέτες των δειγμάτων του test set οπότε αναμένεται οι μισές απο αυτές να είναι και ορθές. Μιας και δεν λαμβάνει υπ'όψην του τα χαρακτηριστικά του κάθε δείγματος, δεν έχει νόημα να ασχοληθεί κανείς με τις εξι διαφορετικές περιπτώσεις για αυτά που προέκυψαν παραπάνω αλλά θα επιλέξουμε μια από αυτές και θα σημειώσουμε την απόδοση της με αυτόν τον ταξινομητή για να υπάρχει σαν σημείο αναφοράς. Επίσης, εφόσον υπάρχει ισορροπία στις κλάσεις των δειγμάτων του συνόλου train δεν έχει ούτε νόημα να δοκιμαστούν άλλες στρατηγικές του dummy όπως stratified, most_frequent και constant καθώς θα δώσουν όμοια αποτελέσματα."
      ]
    },
    {
      "cell_type": "code",
      "metadata": {
        "colab": {
          "base_uri": "https://localhost:8080/"
        },
        "id": "m5KpdjJvWTBp",
        "outputId": "edffa70e-021e-4aab-c4b7-7d863061c65e"
      },
      "source": [
        "from sklearn.dummy import DummyClassifier\n",
        "from sklearn.metrics import confusion_matrix\n",
        "from sklearn.metrics import precision_recall_fscore_support\n",
        "import time\n",
        "\n",
        "dc_uniform = DummyClassifier(strategy=\"uniform\")\n",
        "\n",
        "a=time.time()\n",
        "model = dc_uniform.fit(balscaledmeantrainattr, balscaledmeantrainlabels)\n",
        "b=time.time()\n",
        "dummytime=b-a\n",
        "\n",
        "preds = dc_uniform.predict(scaledmeantestattr)\n",
        "print(\"Με μέθοδο uniform παίρνουμε accuracy score:\")\n",
        "print(dc_uniform.score(scaledmeantestattr, testmeanlabels), '\\n')\n",
        "print(\"Confusion Matrix:\")\n",
        "print(confusion_matrix(testmeanlabels, preds), '\\n')\n",
        "print(\"f1_micro score:\")\n",
        "f1microdum=precision_recall_fscore_support(testmeanlabels, preds, average='micro')\n",
        "print(f1microdum, \"\\n\")\n",
        "print(\"f1_macro score:\")\n",
        "f1macrodum=precision_recall_fscore_support(testmeanlabels, preds, average='macro')\n",
        "print(f1macrodum, \"\\n\")"
      ],
      "execution_count": null,
      "outputs": [
        {
          "output_type": "stream",
          "text": [
            "Με μέθοδο uniform παίρνουμε accuracy score:\n",
            "0.42424242424242425 \n",
            "\n",
            "Confusion Matrix:\n",
            "[[ 5  7]\n",
            " [10 11]] \n",
            "\n",
            "f1_micro score:\n",
            "(0.48484848484848486, 0.48484848484848486, 0.48484848484848486, None) \n",
            "\n",
            "f1_macro score:\n",
            "(0.4722222222222222, 0.47023809523809523, 0.4672364672364673, None) \n",
            "\n"
          ],
          "name": "stdout"
        }
      ]
    },
    {
      "cell_type": "markdown",
      "metadata": {
        "id": "ulDqQQe4X60Q"
      },
      "source": [
        "###Gaussian Naive Bayes\n",
        "\n",
        "Γίνεται δοκιμή για τις 6 διαφορετικές περιπτώσεις με gaussian naive bayes ταξινομητή. Κάθε μια απο αυτές θα αξιολογηθεί με τη μέθοδο τoυ 10 fold cross-validation χωρίς να εμπλακούν τα δείγματα στο σύνολο test ενώ στη συνέχεια για τη περίπτωση που απέδωσε καλύτερα κατά μεσο όρο στα scores του cross_validation θα πάρουμε τα confusion matrix, f1_micro και f1_macro score."
      ]
    },
    {
      "cell_type": "code",
      "metadata": {
        "colab": {
          "base_uri": "https://localhost:8080/",
          "height": 278
        },
        "id": "YgQJ_yXGp3YN",
        "outputId": "dfe0aa34-0547-4591-b061-38874a32415a"
      },
      "source": [
        "from sklearn.naive_bayes import GaussianNB\n",
        "from sklearn.model_selection import cross_val_score\n",
        "gnb = GaussianNB()\n",
        "gnb_scores = []\n",
        "gnb_choices = [\"Scaler\\n μ.ο.\", \"Scaler\\n διάμεσος\", \"Scaler\\n most_freq\", \"Minmax\\n μ.ο.\", \"Minmax\\n διάμεσος\", \"Minmax\\n most_freq\"]\n",
        "\n",
        "gnb_scores.append(cross_val_score(gnb, balscaledmeantrainattr, balscaledmeantrainlabels, cv=10, scoring='accuracy').mean())\n",
        "gnb_scores.append(cross_val_score(gnb, balscaledmediantrainattr, balscaledmediantrainlabels, cv=10, scoring='accuracy').mean())\n",
        "gnb_scores.append(cross_val_score(gnb, balscaledfreqtrainattr, balscaledfreqtrainlabels, cv=10, scoring='accuracy').mean())\n",
        "gnb_scores.append(cross_val_score(gnb, balminmaxmeantrainattr, balminmaxmeantrainlabels, cv=10, scoring='accuracy').mean())\n",
        "gnb_scores.append(cross_val_score(gnb, balminmaxmediantrainattr, balminmaxmediantrainlabels, cv=10, scoring='accuracy').mean())\n",
        "gnb_scores.append(cross_val_score(gnb, balminmaxfreqtrainattr, balminmaxfreqtrainlabels, cv=10, scoring='accuracy').mean())\n",
        "\n",
        "import matplotlib.pyplot as plt\n",
        "\n",
        "gnb_mean_error = [1 - x for x in gnb_scores]\n",
        "\n",
        "plt.plot(gnb_choices, gnb_mean_error)\n",
        "plt.ylabel('GNB Misclassification Error')\n",
        "plt.show()\n"
      ],
      "execution_count": null,
      "outputs": [
        {
          "output_type": "display_data",
          "data": {
            "image/png": "[encoded data removed]",
            "text/plain": [
              "<Figure size 432x288 with 1 Axes>"
            ]
          },
          "metadata": {
            "tags": [],
            "needs_background": "light"
          }
        }
      ]
    },
    {
      "cell_type": "markdown",
      "metadata": {
        "id": "jea1ya1zucUz"
      },
      "source": [
        "Από τα παραπάνω γίνεται αντιληπτό οτι παρόλο το γεγονός οτι η διαφορές ανάμεσα στην απόδοση των έξι περιπτώσεων είναι μικρές, καθοριστικό ρόλο παίζει ο τρόπος συμπλήρωσης των κενών τιμών (και όχι ο τρόπος κανονικοποίησης) με το σφάλμα με τη χρήση της μέσης τιμής να είναι το μικρότερο.\n",
        "\n",
        "Θα γίνει τώρα άλλη μια σύγκριση μεταξύ της επίδοσης του gnb με ή χωρίς κανονικοποίηση και random οversampling επιλέγοντας ως βέλτιστη περίπτωση από τις 6 παραπάνω αυτήν με z_score κανονινκοποίηση (και συμπλήρωση τιμής με τον μέσο όρο της στήλης)."
      ]
    },
    {
      "cell_type": "code",
      "metadata": {
        "colab": {
          "base_uri": "https://localhost:8080/",
          "height": 305
        },
        "id": "jGj7XyybvtS5",
        "outputId": "6bc0e497-4c65-46ff-c907-8958472973ee"
      },
      "source": [
        "gnb_scores.clear()\n",
        "gnb_choices = [\"Με Scaling και\\n random oversampling\", \"Xωρίς\\n Κανονικοποίηση\\n και εξισορρόποση\"]\n",
        "\n",
        "gnb_scores.append(cross_val_score(gnb, balscaledmeantrainattr, balscaledmeantrainlabels, cv=10, scoring='accuracy').mean())\n",
        "gnb_scores.append(cross_val_score(gnb, trainmeanattr, trainmeanlabels.astype(int).ravel(), cv=10, scoring='accuracy').mean())\n",
        "\n",
        "gnb_mean_error = [1 - x for x in gnb_scores]\n",
        "\n",
        "plt.plot(gnb_choices, gnb_mean_error)\n",
        "plt.ylabel('GNB Misclassification Error με συμπλήρωση mean')\n",
        "plt.show()"
      ],
      "execution_count": null,
      "outputs": [
        {
          "output_type": "display_data",
          "data": {
            "image/png": "[encoded data removed]",
            "text/plain": [
              "<Figure size 432x288 with 1 Axes>"
            ]
          },
          "metadata": {
            "tags": [],
            "needs_background": "light"
          }
        }
      ]
    },
    {
      "cell_type": "markdown",
      "metadata": {
        "id": "LUu0KUsdxvSx"
      },
      "source": [
        "Γίνεται αντιληπτό από το παραπάνω ότι ο GNB ταξινομητής (μάλλον) αποδίδει βέλτιστα με συμπλήρωση των τιμών με το μέσο όρο της αντίστοιχης κολόνας, z_score κανονικόποιηση και random oversampling. Για αυτήν τη μέθοδο, θα υπολογιστούν παρακάτω τα confusion matrix, f1_macro & f1_micro."
      ]
    },
    {
      "cell_type": "code",
      "metadata": {
        "colab": {
          "base_uri": "https://localhost:8080/"
        },
        "id": "lGusSrhmypD0",
        "outputId": "64644a36-98cc-4723-e009-89a8006332fa"
      },
      "source": [
        "a=time.time()\n",
        "model = gnb.fit(balscaledmeantrainattr, balscaledmeantrainlabels)\n",
        "b=time.time()\n",
        "gnbtime=b-a\n",
        "preds = gnb.predict(scaledmeantestattr)\n",
        "\n",
        "print(\"Παίρνουμε accuracy score:\")\n",
        "print(gnb.score(scaledmeantestattr, testmeanlabels), '\\n')\n",
        "print(\"Confusion Matrix:\")\n",
        "print(confusion_matrix(testmeanlabels, preds), '\\n')\n",
        "print(\"f1_micro score:\")\n",
        "f1micrognb=precision_recall_fscore_support(testmeanlabels, preds, average='micro')\n",
        "print(f1micrognb, \"\\n\")\n",
        "print(\"f1_macro score:\")\n",
        "f1macrognb=precision_recall_fscore_support(testmeanlabels, preds, average='micro')\n",
        "print(f1macrognb, \"\\n\")"
      ],
      "execution_count": null,
      "outputs": [
        {
          "output_type": "stream",
          "text": [
            "Παίρνουμε accuracy score:\n",
            "0.6363636363636364 \n",
            "\n",
            "Confusion Matrix:\n",
            "[[ 5  7]\n",
            " [ 5 16]] \n",
            "\n",
            "f1_micro score:\n",
            "(0.6363636363636364, 0.6363636363636364, 0.6363636363636364, None) \n",
            "\n",
            "f1_macro score:\n",
            "(0.6363636363636364, 0.6363636363636364, 0.6363636363636364, None) \n",
            "\n"
          ],
          "name": "stdout"
        }
      ]
    },
    {
      "cell_type": "markdown",
      "metadata": {
        "id": "Cix6BHY9Mcy2"
      },
      "source": [
        "###kNN Classifier\n",
        "\n",
        "Για τα 6 train dataset-περιπτώσεις που έχουμε, θα γινει αξιολόγηση του για τα διάφορα k του knn (με cross-validation 10 fold) και έπειτα θα επιλεγεί ο καλύτερος συνδυασμός dataset και αριθμού k."
      ]
    },
    {
      "cell_type": "code",
      "metadata": {
        "colab": {
          "base_uri": "https://localhost:8080/",
          "height": 278
        },
        "id": "Cr0XsdfAVOq_",
        "outputId": "f084ccba-091c-4078-82d1-d76ea8251d09"
      },
      "source": [
        "from sklearn.model_selection import cross_val_score\n",
        "from sklearn.neighbors import KNeighborsClassifier\n",
        "\n",
        "myList = list(range(1,50))\n",
        "neighbors = list(filter(lambda x: x % 2 != 0, myList))\n",
        "cv_scores = []\n",
        "method_scores = []\n",
        "bestn=[]\n",
        "\n",
        "for k in neighbors:\n",
        "    knn = KNeighborsClassifier(n_neighbors=k)\n",
        "    scores = cross_val_score(knn, balscaledmeantrainattr, balscaledmeantrainlabels, cv=10, scoring='accuracy')\n",
        "    cv_scores.append(scores.mean())\n",
        "\n",
        "method_scores.append(max(cv_scores))\n",
        "bestn.append(cv_scores.index(max(cv_scores))+1)\n",
        "cv_scores.clear()\n",
        "\n",
        "for k in neighbors:\n",
        "    knn = KNeighborsClassifier(n_neighbors=k)\n",
        "    scores = cross_val_score(knn, balscaledmediantrainattr, balscaledmediantrainlabels, cv=10, scoring='accuracy')\n",
        "    cv_scores.append(scores.mean())\n",
        "\n",
        "method_scores.append(max(cv_scores))\n",
        "bestn.append(cv_scores.index(max(cv_scores))+1)\n",
        "cv_scores.clear()\n",
        "\n",
        "for k in neighbors:\n",
        "    knn = KNeighborsClassifier(n_neighbors=k)\n",
        "    scores = cross_val_score(knn,balscaledfreqtrainattr, balscaledfreqtrainlabels, cv=10, scoring='accuracy')\n",
        "    cv_scores.append(scores.mean())\n",
        "\n",
        "method_scores.append(max(cv_scores))\n",
        "bestn.append(cv_scores.index(max(cv_scores))+1)\n",
        "cv_scores.clear()\n",
        "\n",
        "for k in neighbors:\n",
        "    knn = KNeighborsClassifier(n_neighbors=k)\n",
        "    scores = cross_val_score(knn, balminmaxfreqtrainattr, balminmaxfreqtrainlabels, cv=10, scoring='accuracy')\n",
        "    cv_scores.append(scores.mean())\n",
        "\n",
        "method_scores.append(max(cv_scores))\n",
        "bestn.append(cv_scores.index(max(cv_scores))+1)\n",
        "cv_scores.clear()\n",
        "\n",
        "for k in neighbors:\n",
        "    knn = KNeighborsClassifier(n_neighbors=k)\n",
        "    scores = cross_val_score(knn, balminmaxmeantrainattr, balminmaxmeantrainlabels, cv=10, scoring='accuracy')\n",
        "    cv_scores.append(scores.mean())\n",
        "\n",
        "method_scores.append(max(cv_scores))\n",
        "bestn.append(cv_scores.index(max(cv_scores))+1)\n",
        "cv_scores.clear()\n",
        "\n",
        "for k in neighbors:\n",
        "    knn = KNeighborsClassifier(n_neighbors=k)\n",
        "    scores = cross_val_score(knn, balminmaxmediantrainattr, balminmaxmediantrainlabels, cv=10, scoring='accuracy')\n",
        "    cv_scores.append(scores.mean())\n",
        "\n",
        "method_scores.append(max(cv_scores))\n",
        "bestn.append(cv_scores.index(max(cv_scores))+1)\n",
        "cv_scores.clear()\n",
        "\n",
        "knn_choices = [\"Scaler\\n μ.ο.\", \"Scaler\\n διάμεσος\", \"Scaler\\n most_freq\", \"Minmax\\n μ.ο.\", \"Minmax\\n διάμεσος\", \"Minmax\\n most_freq\"]\n",
        "\n",
        "knn_mean_error = [1 - x for x in method_scores]\n",
        "\n",
        "plt.plot(knn_choices, knn_mean_error)\n",
        "plt.ylabel('GNB Misclassification Error')\n",
        "plt.show()"
      ],
      "execution_count": null,
      "outputs": [
        {
          "output_type": "display_data",
          "data": {
            "image/png": "[encoded data removed]",
            "text/plain": [
              "<Figure size 432x288 with 1 Axes>"
            ]
          },
          "metadata": {
            "tags": [],
            "needs_background": "light"
          }
        }
      ]
    },
    {
      "cell_type": "markdown",
      "metadata": {
        "id": "iHVkIFJgDu0D"
      },
      "source": [
        "Γίνεται αντιληπτό ότι καλύτερη απόδοση με τη μέθοδο cross-validation παίρνουμε με κανονικοποίηση z-score και συμπλήρωση με τη μέση τιμή της στήλης στις απουσιάζουσες τιμές.\n",
        " \n",
        "H τιμή του k για αυτή τη περίπτωση είναι η εξής."
      ]
    },
    {
      "cell_type": "code",
      "metadata": {
        "colab": {
          "base_uri": "https://localhost:8080/"
        },
        "id": "FBDad4_2D6yw",
        "outputId": "ffe9e244-ae2b-415e-fae6-9646a6787680"
      },
      "source": [
        "print(\"best k value for scaler, mean method is:\", bestn[0])"
      ],
      "execution_count": null,
      "outputs": [
        {
          "output_type": "stream",
          "text": [
            "best k value for scaler, mean method is: 1\n"
          ],
          "name": "stdout"
        }
      ]
    },
    {
      "cell_type": "markdown",
      "metadata": {
        "id": "CPOOxVxJBjrc"
      },
      "source": [
        "Θα γίνει τώρα άλλη μια σύγκριση τη επίδοσης του ταξινομητή knn (k=1) σε dataset με z-score, συμπλήρωση με μ.ο. και random oversampling με dataset μόνο με συμπλήρωση μ.ο."
      ]
    },
    {
      "cell_type": "code",
      "metadata": {
        "colab": {
          "base_uri": "https://localhost:8080/",
          "height": 306
        },
        "id": "smskVg44DDhy",
        "outputId": "0de6c7fd-4d3e-4079-89d0-dd5a5d7c93ba"
      },
      "source": [
        "method_scores.clear()\n",
        "knn_choices = [\"Με Scaling και\\n random oversampling\", \"Xωρίς\\n Κανονικοποίηση\\n και εξισορρόποση\"]\n",
        "knn = KNeighborsClassifier(n_neighbors=1)\n",
        "\n",
        "method_scores.append(cross_val_score(knn, balscaledmeantrainattr, balscaledmeantrainlabels, cv=10, scoring='accuracy').mean())\n",
        "method_scores.append(cross_val_score(knn, trainmeanattr, trainmeanlabels.astype(int).ravel(), cv=10, scoring='accuracy').mean())\n",
        "\n",
        "knn_mean_error = [1 - x for x in method_scores]\n",
        "\n",
        "plt.plot(knn_choices, knn_mean_error)\n",
        "plt.ylabel('kNN Misclassification Error με συμπλήρωση mean,\\n k=1.')\n",
        "plt.show()"
      ],
      "execution_count": null,
      "outputs": [
        {
          "output_type": "display_data",
          "data": {
            "image/png": "[encoded data removed]",
            "text/plain": [
              "<Figure size 432x288 with 1 Axes>"
            ]
          },
          "metadata": {
            "tags": [],
            "needs_background": "light"
          }
        }
      ]
    },
    {
      "cell_type": "markdown",
      "metadata": {
        "id": "nMRQPkjQFwNy"
      },
      "source": [
        "Γίνεται αντιληπτό ότι η καλύτερη απόδοση με kNN ταξινομητή επιτυγχάνεται με z-score scaling, random oversampling και στην αρχή συμπλήρωση των κενών τιμών με το μέσο όρο της στήλης που αντιστοιχεί η τιμή. Θα βρεθούν τώρα τα confusion matrix, f1_micro και f1_macro scores."
      ]
    },
    {
      "cell_type": "code",
      "metadata": {
        "id": "l_VXgFIESWuE",
        "colab": {
          "base_uri": "https://localhost:8080/"
        },
        "outputId": "37793682-0240-4d51-a12e-42e6d697b2e9"
      },
      "source": [
        "knn = KNeighborsClassifier(n_neighbors=1)\n",
        "a=time.time()\n",
        "model = knn.fit(balscaledmeantrainattr, balscaledmeantrainlabels)\n",
        "b=time.time()\n",
        "knntime=b-a\n",
        "preds = knn.predict(scaledmeantestattr)\n",
        "\n",
        "print(\"Παίρνουμε accuracy score:\")\n",
        "print(knn.score(scaledmeantestattr, testmeanlabels), '\\n')\n",
        "print(\"Confusion Matrix:\")\n",
        "print(confusion_matrix(testmeanlabels, preds), '\\n')\n",
        "print(\"f1_micro score:\")\n",
        "f1microknn=precision_recall_fscore_support(testmeanlabels, preds, average='micro')\n",
        "print(f1microknn, \"\\n\")\n",
        "print(\"f1_macro score:\")\n",
        "f1macroknn=precision_recall_fscore_support(testmeanlabels, preds, average='macro')\n",
        "print(f1macroknn, \"\\n\")"
      ],
      "execution_count": null,
      "outputs": [
        {
          "output_type": "stream",
          "text": [
            "Παίρνουμε accuracy score:\n",
            "0.6666666666666666 \n",
            "\n",
            "Confusion Matrix:\n",
            "[[ 6  6]\n",
            " [ 5 16]] \n",
            "\n",
            "f1_micro score:\n",
            "(0.6666666666666666, 0.6666666666666666, 0.6666666666666666, None) \n",
            "\n",
            "f1_macro score:\n",
            "(0.6363636363636364, 0.6309523809523809, 0.6329625884732053, None) \n",
            "\n"
          ],
          "name": "stdout"
        }
      ]
    },
    {
      "cell_type": "markdown",
      "metadata": {
        "id": "5LdvihJQIZUQ"
      },
      "source": [
        "Tελικά, το καλύτερο αποτέλεσμα παίρνουμε με τον ταξινομητή knn για k=1 και με το dataset να είναι randomly oversampled, z-score scaled και με συμπλήρωση με το μέσο όρο της στήλης. Η διαφορά όμως με τα αποτελέσματα με που παίρνουμε με gnb με τους ίδιους όρους για το dataset είναι μικρή.\n",
        "\n",
        "Είναι αλήθεια επίσης οτι η διαφορά στην πιστότητα των προβλέψεων που παίρνουμε στις δοκιμές με cross_validation και στις προβλέψεις του test set είναι αρκετά μεγάλη όπως φαίνεται παραπάνω. Για αυτό το φαινόμενο αυτή τη στιγμή δε μπορεί να δοθεί άλλη εξήγηση πέρα απο το παράγοντα τύχης σε ένα test dataset με τόσα λίγα δειγματα που μάλλον δεν μπορεί να μας δώσει σωστά συμπεράσματα.\n",
        "\n",
        "Κατά την αξιολόγηση των μεθόδων με gnb και kNN ταξινομητές έγινε επίσης σιωπηλά η υπόθεση οτι οι μετατροπές στο dataset που κάνουμε έχουν πάντα θετικό απoτέλεσμα και δεν είναι πιθανό να έχουν αρνητικό. Οπότε και εμείς αξιολογούσαμε πχ τη διαφορά μεταξύ του dataset χωρίς καμμία μετατροπή σε σχέση με ολες.  Είναι κατανοητό ότι αυτή η υπόθεση δεν είναι ανάγκη να είναι αλήθεια αλλά έγινε για λόγους απλούστευσης για τις περιορισμένες ανάγκες αυτής της άσκησης εφόσον οι μεθόδοι που χρησιμοποιήθηκαν ήταν αρκετά απλές και είναι σχετικά προφανές οτι θα έχουν θετικό αποτέλεσμα (κανονικοποιήση , εξισορρόπηση). \n",
        "\n",
        "Ενδεικτικά παρακάτω τυπώνονται τα plots του f1_micro, f1_macro χρησιμοποιώντας τις βέλτιστες μεθόδους από όλους τους classifiers"
      ]
    },
    {
      "cell_type": "code",
      "metadata": {
        "colab": {
          "base_uri": "https://localhost:8080/",
          "height": 1000
        },
        "id": "jFWB2l0wXxTu",
        "outputId": "e29b44ab-32f4-446b-a429-fa961c9d5574"
      },
      "source": [
        "f1macroall=[f1macrodum[0], f1macrognb[0], f1macroknn[0]]\n",
        "f1macrochoices=[\"Dummy\", \"GNB\", \"kNN\"]\n",
        "\n",
        "plt.plot(f1macrochoices, f1macroall)\n",
        "plt.ylabel('Precision macro σκορ ανα ταξινομητή (βελτισοποιημένο)')\n",
        "plt.show()\n",
        "\n",
        "f1macroall=[f1macrodum[1], f1macrognb[1], f1macroknn[1]]\n",
        "f1macrochoices=[\"Dummy\", \"GNB\", \"kNN\"]\n",
        "\n",
        "plt.plot(f1macrochoices, f1macroall)\n",
        "plt.ylabel('Recall macro σκορ ανα ταξινομητή (βελτισοποιημένο)')\n",
        "plt.show()\n",
        "\n",
        "f1macroall=[f1macrodum[2], f1macrognb[2], f1macroknn[2]]\n",
        "f1macrochoices=[\"Dummy\", \"GNB\", \"kNN\"]\n",
        "\n",
        "plt.plot(f1macrochoices, f1macroall)\n",
        "plt.ylabel('F-score macro σκορ ανα ταξινομητή (βελτισοποιημένο)')\n",
        "plt.show()\n",
        "\n",
        "f1macroall=[f1macrodum[0], f1macrognb[0], f1macroknn[0]]\n",
        "f1macrochoices=[\"Dummy\", \"GNB\", \"kNN\"]\n",
        "\n",
        "plt.plot(f1macrochoices, f1macroall)\n",
        "plt.ylabel('Precision macro σκορ ανα ταξινομητή (βελτισοποιημένο)')\n",
        "plt.show()\n",
        "\n",
        "f1macroall=[f1macrodum[1], f1macrognb[1], f1macroknn[1]]\n",
        "f1macrochoices=[\"Dummy\", \"GNB\", \"kNN\"]\n",
        "\n",
        "plt.plot(f1macrochoices, f1macroall)\n",
        "plt.ylabel('Recall macro σκορ ανα ταξινομητή (βελτισοποιημένο)')\n",
        "plt.show()\n",
        "\n",
        "f1macroall=[f1macrodum[2], f1macrognb[2], f1macroknn[2]]\n",
        "f1macrochoices=[\"Dummy\", \"GNB\", \"kNN\"]\n",
        "\n",
        "plt.plot(f1macrochoices, f1macroall)\n",
        "plt.ylabel('F-score macro σκορ ανα ταξινομητή (βελτισοποιημένο)')\n",
        "plt.show()\n",
        "\n",
        "f1microall=[f1microdum[0], f1micrognb[0], f1microknn[0]]\n",
        "f1microchoices=[\"Dummy\", \"GNB\", \"kNN\"]\n",
        "\n",
        "plt.plot(f1microchoices, f1microall)\n",
        "plt.ylabel('Precision micro σκορ ανα ταξινομητή (βελτισοποιημένο)')\n",
        "plt.show()\n",
        "\n",
        "f1microall=[f1microdum[1], f1micrognb[1], f1microknn[1]]\n",
        "f1microchoices=[\"Dummy\", \"GNB\", \"kNN\"]\n",
        "\n",
        "plt.plot(f1microchoices, f1microall)\n",
        "plt.ylabel('Recall micro σκορ ανα ταξινομητή (βελτισοποιημένο)')\n",
        "plt.show()\n",
        "\n",
        "f1microall=[f1microdum[2], f1micrognb[2], f1microknn[2]]\n",
        "f1microchoices=[\"Dummy\", \"GNB\", \"kNN\"]\n",
        "\n",
        "plt.plot(f1microchoices, f1microall)\n",
        "plt.ylabel('F-score micro σκορ ανα ταξινομητή (βελτισοποιημένο)')\n",
        "plt.show()"
      ],
      "execution_count": null,
      "outputs": [
        {
          "output_type": "display_data",
          "data": {
            "image/png": "[encoded data removed]",
            "text/plain": [
              "<Figure size 432x288 with 1 Axes>"
            ]
          },
          "metadata": {
            "tags": [],
            "needs_background": "light"
          }
        },
        {
          "output_type": "display_data",
          "data": {
            "image/png": "[encoded data removed]",
            "text/plain": [
              "<Figure size 432x288 with 1 Axes>"
            ]
          },
          "metadata": {
            "tags": [],
            "needs_background": "light"
          }
        },
        {
          "output_type": "display_data",
          "data": {
            "image/png": "[encoded data removed]",
            "text/plain": [
              "<Figure size 432x288 with 1 Axes>"
            ]
          },
          "metadata": {
            "tags": [],
            "needs_background": "light"
          }
        },
        {
          "output_type": "display_data",
          "data": {
            "image/png": "[encoded data removed]",
            "text/plain": [
              "<Figure size 432x288 with 1 Axes>"
            ]
          },
          "metadata": {
            "tags": [],
            "needs_background": "light"
          }
        },
        {
          "output_type": "display_data",
          "data": {
            "image/png": "[encoded data removed]",
            "text/plain": [
              "<Figure size 432x288 with 1 Axes>"
            ]
          },
          "metadata": {
            "tags": [],
            "needs_background": "light"
          }
        },
        {
          "output_type": "display_data",
          "data": {
            "image/png": "[encoded data removed]",
            "text/plain": [
              "<Figure size 432x288 with 1 Axes>"
            ]
          },
          "metadata": {
            "tags": [],
            "needs_background": "light"
          }
        },
        {
          "output_type": "display_data",
          "data": {
            "image/png": "[encoded data removed]",
            "text/plain": [
              "<Figure size 432x288 with 1 Axes>"
            ]
          },
          "metadata": {
            "tags": [],
            "needs_background": "light"
          }
        },
        {
          "output_type": "display_data",
          "data": {
            "image/png": "[encoded data removed]",
            "text/plain": [
              "<Figure size 432x288 with 1 Axes>"
            ]
          },
          "metadata": {
            "tags": [],
            "needs_background": "light"
          }
        },
        {
          "output_type": "display_data",
          "data": {
            "image/png": "[encoded data removed]",
            "text/plain": [
              "<Figure size 432x288 with 1 Axes>"
            ]
          },
          "metadata": {
            "tags": [],
            "needs_background": "light"
          }
        }
      ]
    },
    {
      "cell_type": "markdown",
      "metadata": {
        "id": "cI-7qLhDcw2g"
      },
      "source": [
        "Στα παραπάνω plot αποτυπώνεται ακριβώς που είδαμε και στα confusion matrix. Δηλαδή όλοι οι ταξινομητές (πέρα απο τον dummy) έχουν μεγαλύτερη επιτυχία στο να αναγνωρίζουν σωστά δείγματα της κλάσης με τα περισσότερα (διαφορετικά) δείγματα."
      ]
    },
    {
      "cell_type": "markdown",
      "metadata": {
        "id": "bnFwoKfGfIEz"
      },
      "source": [
        "Tέλος θα γίνει μια σύγκριση των χρόνων εκτέλεσης στο fit κάθε ταξινομητή."
      ]
    },
    {
      "cell_type": "code",
      "metadata": {
        "colab": {
          "base_uri": "https://localhost:8080/",
          "height": 265
        },
        "id": "9BYvLjdhfVAB",
        "outputId": "398b5796-b37b-49d1-b338-96a1c2bc2070"
      },
      "source": [
        "timeall=[dummytime, gnbtime, knntime]\n",
        "timechoices=[\"Dummy\", \"GNB\", \"kNN\"]\n",
        "\n",
        "plt.plot(timechoices, timeall)\n",
        "plt.ylabel('Xρόνος ανα fit ταξινομητη')\n",
        "plt.show()"
      ],
      "execution_count": null,
      "outputs": [
        {
          "output_type": "display_data",
          "data": {
            "image/png": "[encoded data removed]",
            "text/plain": [
              "<Figure size 432x288 with 1 Axes>"
            ]
          },
          "metadata": {
            "tags": [],
            "needs_background": "light"
          }
        }
      ]
    },
    {
      "cell_type": "markdown",
      "metadata": {
        "id": "LRja22V214tS"
      },
      "source": [
        "Φαίνεται πως ο GNB σπαταλάει συγκριτικά αρκετά περισσότερο απο τον kNN"
      ]
    },
    {
      "cell_type": "markdown",
      "metadata": {
        "id": "TaRg76XfMNyA"
      },
      "source": [
        "# Μέρος 2"
      ]
    },
    {
      "cell_type": "markdown",
      "metadata": {
        "id": "1rVga3u9MRnC"
      },
      "source": [
        "## Περιγραφή του Dataset\r\n",
        "\r\n",
        "To dataset **B07** ασχολείται με την πρόβλεψη πτώχευσης πολωνικών εταιρειών. Οι μετρήσεις έγιναν την περίοδο 2000-2012. Τα δεδομένα δίνονται σε 5 αρχεία arff, συνολικά λαμβάνουμε 43405 μετρήσεις, κάθε μία από τις οποίες έχει 64 attributes και στο 65ο υπάρχει το class, 0 αν η εταιρεία δεν χρεοκόπησε, 1 ειδάλως. Έχουμε δηλαδή ένα binary dataset."
      ]
    },
    {
      "cell_type": "markdown",
      "metadata": {
        "id": "jHRI7tw8RFSb"
      },
      "source": [
        "## Είσοδος δεδομένων και προεπεξεργασία στο συνολικό dataset.\r\n",
        "\r\n",
        "Αρχικά έγινε συνένωση των 5 αρχείων σε ένα μεγάλο. Εποπτεύοντας τα στοιχεία για έλεγχο διαθεσιμότητας παρατηρούμε ότι σχεδόν κανένα στοιχείο δεν διαθέτει συμπληρωμένες τιμές για όλα τα χαρακτηριστικά του. Επομένως πρέπει να αντικαταστήσουμε τα NaN με κάποια στρατηγική της SimpleImputer (εδώ επιλέχθηκε η mean).\r\n",
        "\r\n",
        "\r\n",
        "\r\n",
        "\r\n",
        "> Εδώ να σημειώσουμε πώς εφόσον δεν γνωρίζουμε τη \"φύση\" των χαρακτηριστικών και το πόσο σημαντικό είναι κάποιο στον καθορισμό πτώχευσης ή όχι, δεν μπορούμε να αφαιρέσουμε πλήρως κάποια στήλη.Ίσως θα μπορούσε να γίνει κάποιο grid search σχετικά με αυτό (δηλαδή πως επιδρά η αφαίρεση k στηλών με τις περισσότερες απουσιάζουσες τιμές από το dataset) όμως θεωρούμε πως θα γινόταν σπατάλη πόρων χωρίς ιδιαίτερο αποτέλεσμα.\r\n",
        "\r\n",
        "\r\n",
        "\r\n",
        "Παρατηρούμε ότι οι κλάσεις είναι περίπου 95%-5% (0-1) δηλαδή το dataset μας είναι τελείως εκτός ισορροπίας. Στη συνέχεια προσπαθούμε να το εξισορροπήσουμε στο κομμάτι προεπεξεργασίας και εύρεσης βέλτιστων παραμέτρων\r\n",
        "\r\n",
        "\r\n",
        "\r\n",
        "\r\n",
        "\r\n"
      ]
    },
    {
      "cell_type": "code",
      "metadata": {
        "colab": {
          "base_uri": "https://localhost:8080/",
          "height": 422
        },
        "id": "Jr-tcAUZqm4w",
        "outputId": "17c88749-8fb8-4ddf-8cf5-5e35c7c2fc26"
      },
      "source": [
        "data_files = ['1year.arff', '2year.arff', '3year.arff', '4year.arff', '5year.arff']\n",
        "for i in data_files:\n",
        "  if i=='1year.arff':\n",
        "    dat = arff.loadarff(i)\n",
        "    da = pd.DataFrame(dat[0])\n",
        "  else:\n",
        "    dat = arff.loadarff(i)  \n",
        "    da1 = pd.DataFrame(dat[0])\n",
        "    da = pd.DataFrame.merge(da, da1, 'outer')\n",
        "da"
      ],
      "execution_count": null,
      "outputs": [
        {
          "output_type": "execute_result",
          "data": {
            "text/html": [
              "<div>\n",
              "<style scoped>\n",
              "    .dataframe tbody tr th:only-of-type {\n",
              "        vertical-align: middle;\n",
              "    }\n",
              "\n",
              "    .dataframe tbody tr th {\n",
              "        vertical-align: top;\n",
              "    }\n",
              "\n",
              "    .dataframe thead th {\n",
              "        text-align: right;\n",
              "    }\n",
              "</style>\n",
              "<table border=\"1\" class=\"dataframe\">\n",
              "  <thead>\n",
              "    <tr style=\"text-align: right;\">\n",
              "      <th></th>\n",
              "      <th>Attr1</th>\n",
              "      <th>Attr2</th>\n",
              "      <th>Attr3</th>\n",
              "      <th>Attr4</th>\n",
              "      <th>Attr5</th>\n",
              "      <th>Attr6</th>\n",
              "      <th>Attr7</th>\n",
              "      <th>Attr8</th>\n",
              "      <th>Attr9</th>\n",
              "      <th>Attr10</th>\n",
              "      <th>Attr11</th>\n",
              "      <th>Attr12</th>\n",
              "      <th>Attr13</th>\n",
              "      <th>Attr14</th>\n",
              "      <th>Attr15</th>\n",
              "      <th>Attr16</th>\n",
              "      <th>Attr17</th>\n",
              "      <th>Attr18</th>\n",
              "      <th>Attr19</th>\n",
              "      <th>Attr20</th>\n",
              "      <th>Attr21</th>\n",
              "      <th>Attr22</th>\n",
              "      <th>Attr23</th>\n",
              "      <th>Attr24</th>\n",
              "      <th>Attr25</th>\n",
              "      <th>Attr26</th>\n",
              "      <th>Attr27</th>\n",
              "      <th>Attr28</th>\n",
              "      <th>Attr29</th>\n",
              "      <th>Attr30</th>\n",
              "      <th>Attr31</th>\n",
              "      <th>Attr32</th>\n",
              "      <th>Attr33</th>\n",
              "      <th>Attr34</th>\n",
              "      <th>Attr35</th>\n",
              "      <th>Attr36</th>\n",
              "      <th>Attr37</th>\n",
              "      <th>Attr38</th>\n",
              "      <th>Attr39</th>\n",
              "      <th>Attr40</th>\n",
              "      <th>Attr41</th>\n",
              "      <th>Attr42</th>\n",
              "      <th>Attr43</th>\n",
              "      <th>Attr44</th>\n",
              "      <th>Attr45</th>\n",
              "      <th>Attr46</th>\n",
              "      <th>Attr47</th>\n",
              "      <th>Attr48</th>\n",
              "      <th>Attr49</th>\n",
              "      <th>Attr50</th>\n",
              "      <th>Attr51</th>\n",
              "      <th>Attr52</th>\n",
              "      <th>Attr53</th>\n",
              "      <th>Attr54</th>\n",
              "      <th>Attr55</th>\n",
              "      <th>Attr56</th>\n",
              "      <th>Attr57</th>\n",
              "      <th>Attr58</th>\n",
              "      <th>Attr59</th>\n",
              "      <th>Attr60</th>\n",
              "      <th>Attr61</th>\n",
              "      <th>Attr62</th>\n",
              "      <th>Attr63</th>\n",
              "      <th>Attr64</th>\n",
              "      <th>class</th>\n",
              "    </tr>\n",
              "  </thead>\n",
              "  <tbody>\n",
              "    <tr>\n",
              "      <th>0</th>\n",
              "      <td>0.200550</td>\n",
              "      <td>0.37951</td>\n",
              "      <td>0.396410</td>\n",
              "      <td>2.04720</td>\n",
              "      <td>32.3510</td>\n",
              "      <td>0.38825</td>\n",
              "      <td>0.249760</td>\n",
              "      <td>1.33050</td>\n",
              "      <td>1.13890</td>\n",
              "      <td>0.504940</td>\n",
              "      <td>0.249760</td>\n",
              "      <td>0.659800</td>\n",
              "      <td>0.166600</td>\n",
              "      <td>0.249760</td>\n",
              "      <td>497.42</td>\n",
              "      <td>0.733780</td>\n",
              "      <td>2.63490</td>\n",
              "      <td>0.249760</td>\n",
              "      <td>0.149420</td>\n",
              "      <td>43.3700</td>\n",
              "      <td>1.24790</td>\n",
              "      <td>0.214020</td>\n",
              "      <td>0.119980</td>\n",
              "      <td>0.47706</td>\n",
              "      <td>0.504940</td>\n",
              "      <td>0.604110</td>\n",
              "      <td>1.45820</td>\n",
              "      <td>1.761500</td>\n",
              "      <td>5.9443</td>\n",
              "      <td>0.11788</td>\n",
              "      <td>0.149420</td>\n",
              "      <td>94.140</td>\n",
              "      <td>3.8772</td>\n",
              "      <td>0.56393</td>\n",
              "      <td>0.214020</td>\n",
              "      <td>1.74100</td>\n",
              "      <td>593.27000</td>\n",
              "      <td>0.50591</td>\n",
              "      <td>0.128040</td>\n",
              "      <td>0.662950</td>\n",
              "      <td>0.051402</td>\n",
              "      <td>0.128040</td>\n",
              "      <td>114.420</td>\n",
              "      <td>71.0500</td>\n",
              "      <td>1.00970</td>\n",
              "      <td>1.52250</td>\n",
              "      <td>49.394</td>\n",
              "      <td>0.185300</td>\n",
              "      <td>0.110850</td>\n",
              "      <td>2.04200</td>\n",
              "      <td>0.37854</td>\n",
              "      <td>0.25792</td>\n",
              "      <td>2.24370</td>\n",
              "      <td>2.24800</td>\n",
              "      <td>348690.00</td>\n",
              "      <td>0.121960</td>\n",
              "      <td>0.397180</td>\n",
              "      <td>0.87804</td>\n",
              "      <td>0.001924</td>\n",
              "      <td>8.4160</td>\n",
              "      <td>5.1372</td>\n",
              "      <td>82.658</td>\n",
              "      <td>4.4158</td>\n",
              "      <td>7.42770</td>\n",
              "      <td>b'0'</td>\n",
              "    </tr>\n",
              "    <tr>\n",
              "      <th>1</th>\n",
              "      <td>0.209120</td>\n",
              "      <td>0.49988</td>\n",
              "      <td>0.472250</td>\n",
              "      <td>1.94470</td>\n",
              "      <td>14.7860</td>\n",
              "      <td>0.00000</td>\n",
              "      <td>0.258340</td>\n",
              "      <td>0.99601</td>\n",
              "      <td>1.69960</td>\n",
              "      <td>0.497880</td>\n",
              "      <td>0.261140</td>\n",
              "      <td>0.516800</td>\n",
              "      <td>0.158350</td>\n",
              "      <td>0.258340</td>\n",
              "      <td>677.96</td>\n",
              "      <td>0.538380</td>\n",
              "      <td>2.00050</td>\n",
              "      <td>0.258340</td>\n",
              "      <td>0.152000</td>\n",
              "      <td>87.9810</td>\n",
              "      <td>1.42930</td>\n",
              "      <td>0.248060</td>\n",
              "      <td>0.123040</td>\n",
              "      <td>NaN</td>\n",
              "      <td>0.395420</td>\n",
              "      <td>0.439920</td>\n",
              "      <td>88.44400</td>\n",
              "      <td>16.946000</td>\n",
              "      <td>3.6884</td>\n",
              "      <td>0.26969</td>\n",
              "      <td>0.152000</td>\n",
              "      <td>122.170</td>\n",
              "      <td>2.9876</td>\n",
              "      <td>2.98760</td>\n",
              "      <td>0.206160</td>\n",
              "      <td>1.69960</td>\n",
              "      <td>NaN</td>\n",
              "      <td>0.49788</td>\n",
              "      <td>0.121300</td>\n",
              "      <td>0.086422</td>\n",
              "      <td>0.064371</td>\n",
              "      <td>0.145950</td>\n",
              "      <td>199.490</td>\n",
              "      <td>111.5100</td>\n",
              "      <td>0.51045</td>\n",
              "      <td>1.12520</td>\n",
              "      <td>100.130</td>\n",
              "      <td>0.237270</td>\n",
              "      <td>0.139610</td>\n",
              "      <td>1.94470</td>\n",
              "      <td>0.49988</td>\n",
              "      <td>0.33472</td>\n",
              "      <td>17.86600</td>\n",
              "      <td>17.86600</td>\n",
              "      <td>2304.60</td>\n",
              "      <td>0.121300</td>\n",
              "      <td>0.420020</td>\n",
              "      <td>0.85300</td>\n",
              "      <td>0.000000</td>\n",
              "      <td>4.1486</td>\n",
              "      <td>3.2732</td>\n",
              "      <td>107.350</td>\n",
              "      <td>3.4000</td>\n",
              "      <td>60.98700</td>\n",
              "      <td>b'0'</td>\n",
              "    </tr>\n",
              "    <tr>\n",
              "      <th>2</th>\n",
              "      <td>0.248660</td>\n",
              "      <td>0.69592</td>\n",
              "      <td>0.267130</td>\n",
              "      <td>1.55480</td>\n",
              "      <td>-1.1523</td>\n",
              "      <td>0.00000</td>\n",
              "      <td>0.309060</td>\n",
              "      <td>0.43695</td>\n",
              "      <td>1.30900</td>\n",
              "      <td>0.304080</td>\n",
              "      <td>0.312580</td>\n",
              "      <td>0.641840</td>\n",
              "      <td>0.244350</td>\n",
              "      <td>0.309060</td>\n",
              "      <td>794.16</td>\n",
              "      <td>0.459610</td>\n",
              "      <td>1.43690</td>\n",
              "      <td>0.309060</td>\n",
              "      <td>0.236100</td>\n",
              "      <td>73.1330</td>\n",
              "      <td>1.42830</td>\n",
              "      <td>0.302600</td>\n",
              "      <td>0.189960</td>\n",
              "      <td>NaN</td>\n",
              "      <td>0.289320</td>\n",
              "      <td>0.372820</td>\n",
              "      <td>86.01100</td>\n",
              "      <td>1.062700</td>\n",
              "      <td>4.3749</td>\n",
              "      <td>0.41929</td>\n",
              "      <td>0.238150</td>\n",
              "      <td>176.930</td>\n",
              "      <td>2.0630</td>\n",
              "      <td>1.42740</td>\n",
              "      <td>0.315650</td>\n",
              "      <td>1.30900</td>\n",
              "      <td>2.30190</td>\n",
              "      <td>0.51537</td>\n",
              "      <td>0.241140</td>\n",
              "      <td>0.322020</td>\n",
              "      <td>0.074020</td>\n",
              "      <td>0.231170</td>\n",
              "      <td>165.510</td>\n",
              "      <td>92.3810</td>\n",
              "      <td>0.94807</td>\n",
              "      <td>1.01010</td>\n",
              "      <td>96.372</td>\n",
              "      <td>0.291810</td>\n",
              "      <td>0.222930</td>\n",
              "      <td>1.07580</td>\n",
              "      <td>0.48152</td>\n",
              "      <td>0.48474</td>\n",
              "      <td>1.20980</td>\n",
              "      <td>2.05040</td>\n",
              "      <td>6332.70</td>\n",
              "      <td>0.241140</td>\n",
              "      <td>0.817740</td>\n",
              "      <td>0.76599</td>\n",
              "      <td>0.694840</td>\n",
              "      <td>4.9909</td>\n",
              "      <td>3.9510</td>\n",
              "      <td>134.270</td>\n",
              "      <td>2.7185</td>\n",
              "      <td>5.20780</td>\n",
              "      <td>b'0'</td>\n",
              "    </tr>\n",
              "    <tr>\n",
              "      <th>3</th>\n",
              "      <td>0.081483</td>\n",
              "      <td>0.30734</td>\n",
              "      <td>0.458790</td>\n",
              "      <td>2.49280</td>\n",
              "      <td>51.9520</td>\n",
              "      <td>0.14988</td>\n",
              "      <td>0.092704</td>\n",
              "      <td>1.86610</td>\n",
              "      <td>1.05710</td>\n",
              "      <td>0.573530</td>\n",
              "      <td>0.092704</td>\n",
              "      <td>0.301630</td>\n",
              "      <td>0.094257</td>\n",
              "      <td>0.092704</td>\n",
              "      <td>917.01</td>\n",
              "      <td>0.398030</td>\n",
              "      <td>3.25370</td>\n",
              "      <td>0.092704</td>\n",
              "      <td>0.071428</td>\n",
              "      <td>79.7880</td>\n",
              "      <td>1.50690</td>\n",
              "      <td>0.115500</td>\n",
              "      <td>0.062782</td>\n",
              "      <td>0.17193</td>\n",
              "      <td>0.573530</td>\n",
              "      <td>0.361520</td>\n",
              "      <td>0.94076</td>\n",
              "      <td>1.961800</td>\n",
              "      <td>4.6511</td>\n",
              "      <td>0.14343</td>\n",
              "      <td>0.071428</td>\n",
              "      <td>91.370</td>\n",
              "      <td>3.9948</td>\n",
              "      <td>0.37581</td>\n",
              "      <td>0.115500</td>\n",
              "      <td>1.35620</td>\n",
              "      <td>NaN</td>\n",
              "      <td>0.57353</td>\n",
              "      <td>0.088995</td>\n",
              "      <td>0.401390</td>\n",
              "      <td>0.069622</td>\n",
              "      <td>0.088995</td>\n",
              "      <td>180.770</td>\n",
              "      <td>100.9800</td>\n",
              "      <td>0.28720</td>\n",
              "      <td>1.56960</td>\n",
              "      <td>84.344</td>\n",
              "      <td>0.085874</td>\n",
              "      <td>0.066165</td>\n",
              "      <td>2.49280</td>\n",
              "      <td>0.30734</td>\n",
              "      <td>0.25033</td>\n",
              "      <td>2.45240</td>\n",
              "      <td>2.45240</td>\n",
              "      <td>20545.00</td>\n",
              "      <td>0.054015</td>\n",
              "      <td>0.142070</td>\n",
              "      <td>0.94598</td>\n",
              "      <td>0.000000</td>\n",
              "      <td>4.5746</td>\n",
              "      <td>3.6147</td>\n",
              "      <td>86.435</td>\n",
              "      <td>4.2228</td>\n",
              "      <td>5.54970</td>\n",
              "      <td>b'0'</td>\n",
              "    </tr>\n",
              "    <tr>\n",
              "      <th>4</th>\n",
              "      <td>0.187320</td>\n",
              "      <td>0.61323</td>\n",
              "      <td>0.229600</td>\n",
              "      <td>1.40630</td>\n",
              "      <td>-7.3128</td>\n",
              "      <td>0.18732</td>\n",
              "      <td>0.187320</td>\n",
              "      <td>0.63070</td>\n",
              "      <td>1.15590</td>\n",
              "      <td>0.386770</td>\n",
              "      <td>0.187320</td>\n",
              "      <td>0.331470</td>\n",
              "      <td>0.121820</td>\n",
              "      <td>0.187320</td>\n",
              "      <td>1133.20</td>\n",
              "      <td>0.322110</td>\n",
              "      <td>1.63070</td>\n",
              "      <td>0.187320</td>\n",
              "      <td>0.115530</td>\n",
              "      <td>57.0450</td>\n",
              "      <td>NaN</td>\n",
              "      <td>0.198320</td>\n",
              "      <td>0.115530</td>\n",
              "      <td>0.18732</td>\n",
              "      <td>0.386770</td>\n",
              "      <td>0.322110</td>\n",
              "      <td>1.41380</td>\n",
              "      <td>1.118400</td>\n",
              "      <td>4.1424</td>\n",
              "      <td>0.27884</td>\n",
              "      <td>0.115530</td>\n",
              "      <td>147.040</td>\n",
              "      <td>2.4823</td>\n",
              "      <td>0.32340</td>\n",
              "      <td>0.198320</td>\n",
              "      <td>1.62780</td>\n",
              "      <td>11.24700</td>\n",
              "      <td>0.43489</td>\n",
              "      <td>0.122310</td>\n",
              "      <td>0.293040</td>\n",
              "      <td>0.096680</td>\n",
              "      <td>0.122310</td>\n",
              "      <td>141.620</td>\n",
              "      <td>84.5740</td>\n",
              "      <td>0.73919</td>\n",
              "      <td>0.95787</td>\n",
              "      <td>65.936</td>\n",
              "      <td>0.188110</td>\n",
              "      <td>0.116010</td>\n",
              "      <td>1.29590</td>\n",
              "      <td>0.56511</td>\n",
              "      <td>0.40285</td>\n",
              "      <td>1.88390</td>\n",
              "      <td>2.11840</td>\n",
              "      <td>3186.60</td>\n",
              "      <td>0.134850</td>\n",
              "      <td>0.484310</td>\n",
              "      <td>0.86515</td>\n",
              "      <td>0.124440</td>\n",
              "      <td>6.3985</td>\n",
              "      <td>4.3158</td>\n",
              "      <td>127.210</td>\n",
              "      <td>2.8692</td>\n",
              "      <td>7.89800</td>\n",
              "      <td>b'0'</td>\n",
              "    </tr>\n",
              "    <tr>\n",
              "      <th>...</th>\n",
              "      <td>...</td>\n",
              "      <td>...</td>\n",
              "      <td>...</td>\n",
              "      <td>...</td>\n",
              "      <td>...</td>\n",
              "      <td>...</td>\n",
              "      <td>...</td>\n",
              "      <td>...</td>\n",
              "      <td>...</td>\n",
              "      <td>...</td>\n",
              "      <td>...</td>\n",
              "      <td>...</td>\n",
              "      <td>...</td>\n",
              "      <td>...</td>\n",
              "      <td>...</td>\n",
              "      <td>...</td>\n",
              "      <td>...</td>\n",
              "      <td>...</td>\n",
              "      <td>...</td>\n",
              "      <td>...</td>\n",
              "      <td>...</td>\n",
              "      <td>...</td>\n",
              "      <td>...</td>\n",
              "      <td>...</td>\n",
              "      <td>...</td>\n",
              "      <td>...</td>\n",
              "      <td>...</td>\n",
              "      <td>...</td>\n",
              "      <td>...</td>\n",
              "      <td>...</td>\n",
              "      <td>...</td>\n",
              "      <td>...</td>\n",
              "      <td>...</td>\n",
              "      <td>...</td>\n",
              "      <td>...</td>\n",
              "      <td>...</td>\n",
              "      <td>...</td>\n",
              "      <td>...</td>\n",
              "      <td>...</td>\n",
              "      <td>...</td>\n",
              "      <td>...</td>\n",
              "      <td>...</td>\n",
              "      <td>...</td>\n",
              "      <td>...</td>\n",
              "      <td>...</td>\n",
              "      <td>...</td>\n",
              "      <td>...</td>\n",
              "      <td>...</td>\n",
              "      <td>...</td>\n",
              "      <td>...</td>\n",
              "      <td>...</td>\n",
              "      <td>...</td>\n",
              "      <td>...</td>\n",
              "      <td>...</td>\n",
              "      <td>...</td>\n",
              "      <td>...</td>\n",
              "      <td>...</td>\n",
              "      <td>...</td>\n",
              "      <td>...</td>\n",
              "      <td>...</td>\n",
              "      <td>...</td>\n",
              "      <td>...</td>\n",
              "      <td>...</td>\n",
              "      <td>...</td>\n",
              "      <td>...</td>\n",
              "    </tr>\n",
              "    <tr>\n",
              "      <th>43400</th>\n",
              "      <td>0.012898</td>\n",
              "      <td>0.70621</td>\n",
              "      <td>0.038857</td>\n",
              "      <td>1.17220</td>\n",
              "      <td>-18.9070</td>\n",
              "      <td>0.00000</td>\n",
              "      <td>0.013981</td>\n",
              "      <td>0.41600</td>\n",
              "      <td>1.67680</td>\n",
              "      <td>0.293790</td>\n",
              "      <td>0.041583</td>\n",
              "      <td>0.061959</td>\n",
              "      <td>0.023622</td>\n",
              "      <td>0.013981</td>\n",
              "      <td>6507.60</td>\n",
              "      <td>0.056089</td>\n",
              "      <td>1.41600</td>\n",
              "      <td>0.013981</td>\n",
              "      <td>0.008338</td>\n",
              "      <td>27.0920</td>\n",
              "      <td>1.03300</td>\n",
              "      <td>0.040401</td>\n",
              "      <td>0.007692</td>\n",
              "      <td>0.90184</td>\n",
              "      <td>0.083706</td>\n",
              "      <td>0.054556</td>\n",
              "      <td>1.46370</td>\n",
              "      <td>0.052831</td>\n",
              "      <td>4.9667</td>\n",
              "      <td>0.41853</td>\n",
              "      <td>0.024762</td>\n",
              "      <td>50.128</td>\n",
              "      <td>7.4000</td>\n",
              "      <td>2.36440</td>\n",
              "      <td>0.033819</td>\n",
              "      <td>1.67680</td>\n",
              "      <td>0.37850</td>\n",
              "      <td>0.66377</td>\n",
              "      <td>0.020169</td>\n",
              "      <td>0.022858</td>\n",
              "      <td>0.356510</td>\n",
              "      <td>0.024093</td>\n",
              "      <td>56.452</td>\n",
              "      <td>29.3600</td>\n",
              "      <td>0.10363</td>\n",
              "      <td>0.62061</td>\n",
              "      <td>27.207</td>\n",
              "      <td>0.014771</td>\n",
              "      <td>0.008809</td>\n",
              "      <td>0.37454</td>\n",
              "      <td>0.22564</td>\n",
              "      <td>0.13514</td>\n",
              "      <td>0.39944</td>\n",
              "      <td>0.90248</td>\n",
              "      <td>3599.10</td>\n",
              "      <td>0.020169</td>\n",
              "      <td>0.043904</td>\n",
              "      <td>1.01220</td>\n",
              "      <td>1.259400</td>\n",
              "      <td>13.4720</td>\n",
              "      <td>12.4320</td>\n",
              "      <td>49.117</td>\n",
              "      <td>7.4313</td>\n",
              "      <td>2.27990</td>\n",
              "      <td>b'1'</td>\n",
              "    </tr>\n",
              "    <tr>\n",
              "      <th>43401</th>\n",
              "      <td>-0.578050</td>\n",
              "      <td>0.96702</td>\n",
              "      <td>-0.800850</td>\n",
              "      <td>0.16576</td>\n",
              "      <td>-67.3650</td>\n",
              "      <td>-0.57805</td>\n",
              "      <td>-0.578050</td>\n",
              "      <td>-0.40334</td>\n",
              "      <td>0.93979</td>\n",
              "      <td>-0.390040</td>\n",
              "      <td>-0.578050</td>\n",
              "      <td>-0.602160</td>\n",
              "      <td>-0.110220</td>\n",
              "      <td>-0.578050</td>\n",
              "      <td>-742.28</td>\n",
              "      <td>-0.491730</td>\n",
              "      <td>1.03410</td>\n",
              "      <td>-0.578050</td>\n",
              "      <td>-0.133990</td>\n",
              "      <td>3.2965</td>\n",
              "      <td>0.64770</td>\n",
              "      <td>-0.534920</td>\n",
              "      <td>-0.133990</td>\n",
              "      <td>-0.57805</td>\n",
              "      <td>-0.390040</td>\n",
              "      <td>-0.491730</td>\n",
              "      <td>NaN</td>\n",
              "      <td>-0.952400</td>\n",
              "      <td>4.0622</td>\n",
              "      <td>0.21864</td>\n",
              "      <td>-0.133990</td>\n",
              "      <td>76.330</td>\n",
              "      <td>4.7819</td>\n",
              "      <td>-0.55316</td>\n",
              "      <td>-0.534920</td>\n",
              "      <td>4.39120</td>\n",
              "      <td>17.03600</td>\n",
              "      <td>-0.38299</td>\n",
              "      <td>-0.123990</td>\n",
              "      <td>0.024771</td>\n",
              "      <td>-0.073529</td>\n",
              "      <td>-0.123990</td>\n",
              "      <td>11.451</td>\n",
              "      <td>8.1548</td>\n",
              "      <td>-14.83600</td>\n",
              "      <td>0.12517</td>\n",
              "      <td>3.098</td>\n",
              "      <td>-0.637460</td>\n",
              "      <td>-0.147760</td>\n",
              "      <td>0.16455</td>\n",
              "      <td>0.95997</td>\n",
              "      <td>0.20912</td>\n",
              "      <td>-0.46385</td>\n",
              "      <td>-0.45546</td>\n",
              "      <td>-9242.10</td>\n",
              "      <td>-0.064073</td>\n",
              "      <td>1.482000</td>\n",
              "      <td>1.06410</td>\n",
              "      <td>-0.018084</td>\n",
              "      <td>110.7200</td>\n",
              "      <td>44.7590</td>\n",
              "      <td>81.220</td>\n",
              "      <td>4.4940</td>\n",
              "      <td>5.13050</td>\n",
              "      <td>b'1'</td>\n",
              "    </tr>\n",
              "    <tr>\n",
              "      <th>43402</th>\n",
              "      <td>-0.179050</td>\n",
              "      <td>1.25530</td>\n",
              "      <td>-0.275990</td>\n",
              "      <td>0.74554</td>\n",
              "      <td>-120.4400</td>\n",
              "      <td>-0.17905</td>\n",
              "      <td>-0.154930</td>\n",
              "      <td>-0.26018</td>\n",
              "      <td>1.17490</td>\n",
              "      <td>-0.326590</td>\n",
              "      <td>-0.154930</td>\n",
              "      <td>-0.142840</td>\n",
              "      <td>-0.072940</td>\n",
              "      <td>-0.154930</td>\n",
              "      <td>-3298.20</td>\n",
              "      <td>-0.110670</td>\n",
              "      <td>0.79665</td>\n",
              "      <td>-0.154930</td>\n",
              "      <td>-0.081350</td>\n",
              "      <td>37.0460</td>\n",
              "      <td>0.83104</td>\n",
              "      <td>0.176700</td>\n",
              "      <td>-0.094015</td>\n",
              "      <td>-0.15493</td>\n",
              "      <td>-0.326590</td>\n",
              "      <td>-0.129880</td>\n",
              "      <td>NaN</td>\n",
              "      <td>-1.442300</td>\n",
              "      <td>5.3244</td>\n",
              "      <td>0.65813</td>\n",
              "      <td>-0.081350</td>\n",
              "      <td>244.230</td>\n",
              "      <td>1.4945</td>\n",
              "      <td>0.14077</td>\n",
              "      <td>0.176700</td>\n",
              "      <td>1.95150</td>\n",
              "      <td>3.60650</td>\n",
              "      <td>-0.15597</td>\n",
              "      <td>0.092780</td>\n",
              "      <td>0.064095</td>\n",
              "      <td>0.214140</td>\n",
              "      <td>0.092780</td>\n",
              "      <td>141.650</td>\n",
              "      <td>104.6100</td>\n",
              "      <td>-0.92630</td>\n",
              "      <td>0.56733</td>\n",
              "      <td>43.526</td>\n",
              "      <td>0.160680</td>\n",
              "      <td>0.084370</td>\n",
              "      <td>0.64421</td>\n",
              "      <td>1.08460</td>\n",
              "      <td>0.66913</td>\n",
              "      <td>-1.70670</td>\n",
              "      <td>-0.81508</td>\n",
              "      <td>-58253.00</td>\n",
              "      <td>0.148880</td>\n",
              "      <td>0.548240</td>\n",
              "      <td>0.85112</td>\n",
              "      <td>-0.522430</td>\n",
              "      <td>9.8526</td>\n",
              "      <td>3.4892</td>\n",
              "      <td>207.870</td>\n",
              "      <td>1.7559</td>\n",
              "      <td>9.95270</td>\n",
              "      <td>b'1'</td>\n",
              "    </tr>\n",
              "    <tr>\n",
              "      <th>43403</th>\n",
              "      <td>-0.108860</td>\n",
              "      <td>0.74394</td>\n",
              "      <td>0.015449</td>\n",
              "      <td>1.08780</td>\n",
              "      <td>-17.0030</td>\n",
              "      <td>-0.10886</td>\n",
              "      <td>-0.109180</td>\n",
              "      <td>0.12531</td>\n",
              "      <td>0.84516</td>\n",
              "      <td>0.093224</td>\n",
              "      <td>-0.109180</td>\n",
              "      <td>-0.620380</td>\n",
              "      <td>-0.065652</td>\n",
              "      <td>-0.109180</td>\n",
              "      <td>-5352.10</td>\n",
              "      <td>-0.068197</td>\n",
              "      <td>1.34420</td>\n",
              "      <td>-0.109180</td>\n",
              "      <td>-0.141280</td>\n",
              "      <td>26.2850</td>\n",
              "      <td>1.12100</td>\n",
              "      <td>-0.099950</td>\n",
              "      <td>-0.140860</td>\n",
              "      <td>-0.10918</td>\n",
              "      <td>0.093224</td>\n",
              "      <td>-0.067762</td>\n",
              "      <td>NaN</td>\n",
              "      <td>0.019106</td>\n",
              "      <td>4.8555</td>\n",
              "      <td>0.95181</td>\n",
              "      <td>-0.141280</td>\n",
              "      <td>70.252</td>\n",
              "      <td>5.1956</td>\n",
              "      <td>-0.13435</td>\n",
              "      <td>-0.099950</td>\n",
              "      <td>0.83553</td>\n",
              "      <td>0.23908</td>\n",
              "      <td>0.66118</td>\n",
              "      <td>-0.129340</td>\n",
              "      <td>0.048976</td>\n",
              "      <td>-0.589300</td>\n",
              "      <td>-0.129340</td>\n",
              "      <td>86.348</td>\n",
              "      <td>60.0640</td>\n",
              "      <td>-1.95610</td>\n",
              "      <td>0.77157</td>\n",
              "      <td>22.215</td>\n",
              "      <td>-0.158400</td>\n",
              "      <td>-0.204970</td>\n",
              "      <td>0.25733</td>\n",
              "      <td>0.17599</td>\n",
              "      <td>0.19247</td>\n",
              "      <td>0.11530</td>\n",
              "      <td>0.81772</td>\n",
              "      <td>1107.50</td>\n",
              "      <td>-0.183200</td>\n",
              "      <td>-1.167700</td>\n",
              "      <td>1.18320</td>\n",
              "      <td>6.092400</td>\n",
              "      <td>13.8860</td>\n",
              "      <td>6.0769</td>\n",
              "      <td>83.122</td>\n",
              "      <td>4.3911</td>\n",
              "      <td>0.95575</td>\n",
              "      <td>b'1'</td>\n",
              "    </tr>\n",
              "    <tr>\n",
              "      <th>43404</th>\n",
              "      <td>-0.105370</td>\n",
              "      <td>0.53629</td>\n",
              "      <td>-0.045578</td>\n",
              "      <td>0.91478</td>\n",
              "      <td>-56.0680</td>\n",
              "      <td>-0.10537</td>\n",
              "      <td>-0.109940</td>\n",
              "      <td>0.86460</td>\n",
              "      <td>0.95040</td>\n",
              "      <td>0.463670</td>\n",
              "      <td>-0.109940</td>\n",
              "      <td>-0.205570</td>\n",
              "      <td>-0.066747</td>\n",
              "      <td>-0.109940</td>\n",
              "      <td>-2055.90</td>\n",
              "      <td>-0.177540</td>\n",
              "      <td>1.86470</td>\n",
              "      <td>-0.109940</td>\n",
              "      <td>-0.077072</td>\n",
              "      <td>47.1990</td>\n",
              "      <td>0.71351</td>\n",
              "      <td>-0.082947</td>\n",
              "      <td>-0.073868</td>\n",
              "      <td>-0.10994</td>\n",
              "      <td>0.463670</td>\n",
              "      <td>-0.169020</td>\n",
              "      <td>NaN</td>\n",
              "      <td>-0.089234</td>\n",
              "      <td>3.9698</td>\n",
              "      <td>0.37528</td>\n",
              "      <td>-0.077072</td>\n",
              "      <td>130.060</td>\n",
              "      <td>2.8064</td>\n",
              "      <td>-0.15467</td>\n",
              "      <td>-0.082947</td>\n",
              "      <td>1.44810</td>\n",
              "      <td>205.69000</td>\n",
              "      <td>0.46515</td>\n",
              "      <td>-0.058149</td>\n",
              "      <td>0.004456</td>\n",
              "      <td>-0.258460</td>\n",
              "      <td>-0.058149</td>\n",
              "      <td>124.570</td>\n",
              "      <td>77.3740</td>\n",
              "      <td>-0.57124</td>\n",
              "      <td>0.56987</td>\n",
              "      <td>44.858</td>\n",
              "      <td>-0.097675</td>\n",
              "      <td>-0.068474</td>\n",
              "      <td>0.91225</td>\n",
              "      <td>0.53481</td>\n",
              "      <td>0.35632</td>\n",
              "      <td>0.90779</td>\n",
              "      <td>0.91069</td>\n",
              "      <td>-425.13</td>\n",
              "      <td>-0.052186</td>\n",
              "      <td>-0.227250</td>\n",
              "      <td>1.05220</td>\n",
              "      <td>0.003196</td>\n",
              "      <td>7.7332</td>\n",
              "      <td>4.7174</td>\n",
              "      <td>136.850</td>\n",
              "      <td>2.6672</td>\n",
              "      <td>2.79270</td>\n",
              "      <td>b'1'</td>\n",
              "    </tr>\n",
              "  </tbody>\n",
              "</table>\n",
              "<p>43405 rows × 65 columns</p>\n",
              "</div>"
            ],
            "text/plain": [
              "          Attr1    Attr2     Attr3    Attr4  ...   Attr62  Attr63    Attr64  class\n",
              "0      0.200550  0.37951  0.396410  2.04720  ...   82.658  4.4158   7.42770   b'0'\n",
              "1      0.209120  0.49988  0.472250  1.94470  ...  107.350  3.4000  60.98700   b'0'\n",
              "2      0.248660  0.69592  0.267130  1.55480  ...  134.270  2.7185   5.20780   b'0'\n",
              "3      0.081483  0.30734  0.458790  2.49280  ...   86.435  4.2228   5.54970   b'0'\n",
              "4      0.187320  0.61323  0.229600  1.40630  ...  127.210  2.8692   7.89800   b'0'\n",
              "...         ...      ...       ...      ...  ...      ...     ...       ...    ...\n",
              "43400  0.012898  0.70621  0.038857  1.17220  ...   49.117  7.4313   2.27990   b'1'\n",
              "43401 -0.578050  0.96702 -0.800850  0.16576  ...   81.220  4.4940   5.13050   b'1'\n",
              "43402 -0.179050  1.25530 -0.275990  0.74554  ...  207.870  1.7559   9.95270   b'1'\n",
              "43403 -0.108860  0.74394  0.015449  1.08780  ...   83.122  4.3911   0.95575   b'1'\n",
              "43404 -0.105370  0.53629 -0.045578  0.91478  ...  136.850  2.6672   2.79270   b'1'\n",
              "\n",
              "[43405 rows x 65 columns]"
            ]
          },
          "metadata": {
            "tags": []
          },
          "execution_count": 3
        }
      ]
    },
    {
      "cell_type": "code",
      "metadata": {
        "id": "TaQjFyEAqxlL"
      },
      "source": [
        "da.replace('nan',np.NaN,inplace=True)\n",
        "imp=SimpleImputer(missing_values=np.NaN,strategy='mean') #median ή mean \n",
        "data_i=pd.DataFrame(imp.fit_transform(da))\n",
        "data_i.columns=da.columns\n",
        "data_i.index=da.index    "
      ],
      "execution_count": null,
      "outputs": []
    },
    {
      "cell_type": "code",
      "metadata": {
        "colab": {
          "base_uri": "https://localhost:8080/"
        },
        "id": "mZZW6IhrrEmV",
        "outputId": "2371324f-1af3-4be1-8ed4-c102ef2d8b7f"
      },
      "source": [
        "data = np.asarray(data_i)\n",
        "features = data[:, :-1]\n",
        "targets = data[:, -1:]\n",
        "sdata, starget = shuffle(features, targets, random_state=341976)\n",
        "samples = 2001\n",
        "data = sdata[0:samples-1,:]\n",
        "target = starget[0:samples-1]\n",
        "X_train, X_test, y_train, y_test = train_test_split(data, target, test_size=0.3, random_state=20126)\n",
        "print(X_train.shape, X_test.shape, y_train.shape, y_test.shape)"
      ],
      "execution_count": null,
      "outputs": [
        {
          "output_type": "stream",
          "text": [
            "(1400, 64) (600, 64) (1400, 1) (600, 1)\n"
          ],
          "name": "stdout"
        }
      ]
    },
    {
      "cell_type": "markdown",
      "metadata": {
        "id": "H4sCTTCitwF5"
      },
      "source": [
        "##Baseline classification"
      ]
    },
    {
      "cell_type": "markdown",
      "metadata": {
        "id": "EYDc0J_tuBq5"
      },
      "source": [
        "Αρχικά, χωρίς προεπεξεργασία ελέγχουμε τις επιδόσεις των predictors(dummies, GNB, knn, MLP, LinearSVM, SVM(rbf, poly)).\r\n",
        "Αυτό που αναμένουμε είναι φαινομενική επιτυχία του dummy constant = 0, αφού τα 0 είναι πολύ περισσότερα από τους 1.  "
      ]
    },
    {
      "cell_type": "code",
      "metadata": {
        "colab": {
          "base_uri": "https://localhost:8080/"
        },
        "id": "lwfNBJnSvEVr",
        "outputId": "456a99dc-c2f2-47ef-d760-6e3e3ffb297b"
      },
      "source": [
        "train = X_train\n",
        "test_labels = y_test\n",
        "test = X_test\n",
        "train_labels = y_train\n",
        "bank_accuracy = {}\n",
        "dc_uniform = DummyClassifier(strategy=\"uniform\")\n",
        "dc_constant_0 = DummyClassifier(strategy=\"constant\", constant=0)\n",
        "dc_constant_1 = DummyClassifier(strategy=\"constant\", constant=1)\n",
        "dc_most_frequent = DummyClassifier(strategy=\"most_frequent\")\n",
        "dc_stratified = DummyClassifier(strategy=\"stratified\")\n",
        "dc_uniform.fit(train, train_labels)\n",
        "bank_accuracy['uniform (random)'] = dc_uniform.score(test, test_labels)\n",
        "model = dc_constant_0.fit(train, train_labels)\n",
        "bank_accuracy['constant 0'] = dc_constant_0.score(test, test_labels)\n",
        "model = dc_constant_1.fit(train, train_labels)\n",
        "bank_accuracy['constant 1'] = dc_constant_1.score(test, test_labels)\n",
        "model = dc_most_frequent.fit(train, train_labels)\n",
        "bank_accuracy['most frequent label'] = dc_most_frequent.score(test, test_labels)\n",
        "model = dc_stratified.fit(train, train_labels)\n",
        "bank_accuracy['stratified'] = dc_stratified.score(test, test_labels)\n",
        "\n",
        "print(\"Classification Accuracy on the bank Dataset (30% test set):\\n\")\n",
        "sorted_accuracy = [(k, bank_accuracy[k]) for k in sorted(bank_accuracy, key=bank_accuracy.get, reverse=True)]\n",
        "for k, v in sorted_accuracy:\n",
        "  print(k,v)"
      ],
      "execution_count": null,
      "outputs": [
        {
          "output_type": "stream",
          "text": [
            "Classification Accuracy on the bank Dataset (30% test set):\n",
            "\n",
            "constant 0 0.9566666666666667\n",
            "most frequent label 0.9566666666666667\n",
            "uniform (random) 0.49833333333333335\n",
            "stratified 0.49833333333333335\n",
            "constant 1 0.043333333333333335\n"
          ],
          "name": "stdout"
        }
      ]
    },
    {
      "cell_type": "code",
      "metadata": {
        "colab": {
          "base_uri": "https://localhost:8080/"
        },
        "id": "t3M39-uXwRR1",
        "outputId": "94121b95-fe64-40f3-8695-687dd296ee75"
      },
      "source": [
        "from sklearn.naive_bayes import GaussianNB\n",
        "gnb = GaussianNB()\n",
        "model = gnb.fit(train, train_labels.ravel())\n",
        "preds = gnb.predict(X_test)\n",
        "print(\"Accuracy of GNB is :\", gnb.score(test, test_labels))\n",
        "print (classification_report(y_test, preds))\n",
        "print(confusion_matrix(y_test, preds))\n",
        "gnb_before = []\n",
        "gnb_before.append(f1_score(y_test, preds, average='micro'))\n",
        "gnb_before.append(f1_score(y_test, preds, average = 'macro'))\n",
        "gnb_before.append(f1_score(y_test, preds, average = 'weighted'))"
      ],
      "execution_count": null,
      "outputs": [
        {
          "output_type": "stream",
          "text": [
            "Accuracy of GNB is : 0.07166666666666667\n",
            "              precision    recall  f1-score   support\n",
            "\n",
            "         0.0       0.87      0.03      0.07       574\n",
            "         1.0       0.04      0.88      0.08        26\n",
            "\n",
            "    accuracy                           0.07       600\n",
            "   macro avg       0.45      0.46      0.07       600\n",
            "weighted avg       0.83      0.07      0.07       600\n",
            "\n",
            "[[ 20 554]\n",
            " [  3  23]]\n"
          ],
          "name": "stdout"
        }
      ]
    },
    {
      "cell_type": "code",
      "metadata": {
        "colab": {
          "base_uri": "https://localhost:8080/"
        },
        "id": "lB-yWcIhXQy1",
        "outputId": "ebe733de-fbb2-472f-b0c0-235e9113d79f"
      },
      "source": [
        "\n",
        "knn = KNeighborsClassifier(n_neighbors=3)\n",
        "\n",
        "knn.fit(X_train, y_train.ravel())\n",
        "pred = knn.predict(X_test)\n",
        "print(\"f1 micro is\", f1_score(y_test.ravel(), pred, average = 'micro'))\n",
        "print(\"f1 macro is\", f1_score(y_test.ravel(), pred, average = 'macro'))\n",
        "\n",
        "\n",
        "print(classification_report(y_test, pred))\n",
        "print(confusion_matrix(y_test, pred))\n",
        "\n",
        "knn_before = []\n",
        "knn_before.append(f1_score(y_test, pred, average='micro'))\n",
        "knn_before.append(f1_score(y_test, pred, average = 'macro'))\n",
        "knn_before.append(f1_score(y_test, pred, average = 'weighted'))"
      ],
      "execution_count": null,
      "outputs": [
        {
          "output_type": "stream",
          "text": [
            "f1 micro is 0.9216666666666666\n",
            "f1 macro is 0.49999113459458505\n",
            "              precision    recall  f1-score   support\n",
            "\n",
            "         0.0       0.96      0.96      0.96       574\n",
            "         1.0       0.04      0.04      0.04        26\n",
            "\n",
            "    accuracy                           0.92       600\n",
            "   macro avg       0.50      0.50      0.50       600\n",
            "weighted avg       0.92      0.92      0.92       600\n",
            "\n",
            "[[552  22]\n",
            " [ 25   1]]\n"
          ],
          "name": "stdout"
        }
      ]
    },
    {
      "cell_type": "code",
      "metadata": {
        "colab": {
          "base_uri": "https://localhost:8080/"
        },
        "id": "HlvXbLs-Xj70",
        "outputId": "376f9239-c699-4a06-e582-a3c29bcfe4fd"
      },
      "source": [
        "\n",
        "clf = MLPClassifier(solver='adam', alpha=0.001, activation = 'relu', \n",
        "                    hidden_layer_sizes=(3,), random_state=1123, learning_rate_init = 0.001, max_iter= 10)\n",
        "clf.fit(X_train, y_train.ravel())\n",
        "preds = clf.predict(X_test)\n",
        "print(\"F1 score for MLP is :\",f1_score(preds, y_test))\n",
        "print(classification_report(y_test, preds))\n",
        "print(confusion_matrix(y_test, preds))\n",
        "\n",
        "\n",
        "mlp_before=[]\n",
        "mlp_before.append(f1_score(y_test, preds, average='micro'))\n",
        "mlp_before.append(f1_score(y_test, preds, average = 'macro'))\n",
        "mlp_before.append(f1_score(y_test, preds, average = 'weighted'))\n",
        "print(mlp_before)"
      ],
      "execution_count": null,
      "outputs": [
        {
          "output_type": "stream",
          "text": [
            "F1 score for MLP is : 0.16417910447761194\n",
            "              precision    recall  f1-score   support\n",
            "\n",
            "         0.0       0.97      0.83      0.89       574\n",
            "         1.0       0.10      0.42      0.16        26\n",
            "\n",
            "    accuracy                           0.81       600\n",
            "   macro avg       0.54      0.63      0.53       600\n",
            "weighted avg       0.93      0.81      0.86       600\n",
            "\n",
            "[[477  97]\n",
            " [ 15  11]]\n",
            "[0.8133333333333334, 0.529556719218168, 0.8632682740145425]\n"
          ],
          "name": "stdout"
        },
        {
          "output_type": "stream",
          "text": [
            "/usr/local/lib/python3.6/dist-packages/sklearn/neural_network/_multilayer_perceptron.py:585: ConvergenceWarning: Stochastic Optimizer: Maximum iterations (10) reached and the optimization hasn't converged yet.\n",
            "  % self.max_iter, ConvergenceWarning)\n"
          ],
          "name": "stderr"
        }
      ]
    },
    {
      "cell_type": "code",
      "metadata": {
        "colab": {
          "base_uri": "https://localhost:8080/"
        },
        "id": "TW7p00GdXtPD",
        "outputId": "8caae0b6-e9fd-4038-d015-abc27a5a14f9"
      },
      "source": [
        "\n",
        "clf = LinearSVC(random_state=0, max_iter=500)\n",
        "clf.fit(X_train, y_train.ravel())\n",
        "preds = clf.predict(X_test)\n",
        "print(classification_report(y_test.ravel(), preds))\n",
        "print(confusion_matrix(y_test, preds))\n",
        "\n",
        "svc_linear_before=[]\n",
        "svc_linear_before.append(f1_score(y_test, preds, average='micro'))\n",
        "svc_linear_before.append(f1_score(y_test, preds, average = 'macro'))\n",
        "svc_linear_before.append(f1_score(y_test, preds, average = 'weighted'))\n",
        "print(svc_linear_before)"
      ],
      "execution_count": null,
      "outputs": [
        {
          "output_type": "stream",
          "text": [
            "              precision    recall  f1-score   support\n",
            "\n",
            "         0.0       0.97      0.83      0.90       574\n",
            "         1.0       0.11      0.46      0.18        26\n",
            "\n",
            "    accuracy                           0.82       600\n",
            "   macro avg       0.54      0.65      0.54       600\n",
            "weighted avg       0.93      0.82      0.87       600\n",
            "\n",
            "[[479  95]\n",
            " [ 14  12]]\n",
            "[0.8183333333333332, 0.5391477757185842, 0.8667573807997032]\n"
          ],
          "name": "stdout"
        },
        {
          "output_type": "stream",
          "text": [
            "/usr/local/lib/python3.6/dist-packages/sklearn/svm/_base.py:977: ConvergenceWarning: Liblinear failed to converge, increase the number of iterations.\n",
            "  \"the number of iterations.\", ConvergenceWarning)\n"
          ],
          "name": "stderr"
        }
      ]
    },
    {
      "cell_type": "code",
      "metadata": {
        "colab": {
          "base_uri": "https://localhost:8080/"
        },
        "id": "zEOw7CbtX0n8",
        "outputId": "8e3fc1d2-f788-4343-e219-99ef3d406060"
      },
      "source": [
        "clf = SVC()\n",
        "clf.fit(X_train, y_train.ravel())\n",
        "preds = clf.predict(X_test)\n",
        "print(classification_report(y_test.ravel(), preds))\n",
        "print(confusion_matrix(y_test, preds))\n",
        "svc_before=[]\n",
        "svc_before.append(f1_score(y_test, preds, average='micro'))\n",
        "svc_before.append(f1_score(y_test, preds, average = 'macro'))\n",
        "svc_before.append(f1_score(y_test, preds, average = 'weighted'))\n",
        "print(svc_before)"
      ],
      "execution_count": null,
      "outputs": [
        {
          "output_type": "stream",
          "text": [
            "              precision    recall  f1-score   support\n",
            "\n",
            "         0.0       0.96      1.00      0.98       574\n",
            "         1.0       0.00      0.00      0.00        26\n",
            "\n",
            "    accuracy                           0.96       600\n",
            "   macro avg       0.48      0.50      0.49       600\n",
            "weighted avg       0.92      0.96      0.94       600\n",
            "\n",
            "[[574   0]\n",
            " [ 26   0]]\n",
            "[0.9566666666666667, 0.48892674616695064, 0.9354798409994323]\n"
          ],
          "name": "stdout"
        },
        {
          "output_type": "stream",
          "text": [
            "/usr/local/lib/python3.6/dist-packages/sklearn/metrics/_classification.py:1221: UndefinedMetricWarning: Precision and F-score are ill-defined and being set to 0.0 in labels with no predicted samples. Use `zero_division` parameter to control this behavior.\n",
            "  _warn_prf(average, modifier, msg_start, len(result))\n"
          ],
          "name": "stderr"
        }
      ]
    },
    {
      "cell_type": "markdown",
      "metadata": {
        "id": "opzHHpuv7dQy"
      },
      "source": [
        "### Plot και αποτελέσματα"
      ]
    },
    {
      "cell_type": "code",
      "metadata": {
        "colab": {
          "base_uri": "https://localhost:8080/",
          "height": 352
        },
        "id": "hBm4ggjDYDQu",
        "outputId": "a11b6ce5-d42c-457d-d0fc-bbb92b1425e0"
      },
      "source": [
        "\r\n",
        "fig = plt.figure()\r\n",
        "ax = fig.add_axes([0,0,1,1])\r\n",
        "langs = ['Dummy Uni', 'Dummy 0', 'Dummy 1', 'Stratified', 'GNB', 'Knn', 'MLP', 'LinearSVM', 'SVC']\r\n",
        "y1 = [bank_accuracy['uniform (random)'], bank_accuracy['constant 0'], bank_accuracy['constant 1'],bank_accuracy['stratified'], gnb_before[1], knn_before[1], mlp_before[1],svc_linear_before[1], svc_before[1]]\r\n",
        "ax.bar(langs,y1)\r\n",
        "plt.title(\"Comparison between estimators for f1-score\")\r\n",
        "plt.show()"
      ],
      "execution_count": null,
      "outputs": [
        {
          "output_type": "display_data",
          "data": {
            "image/png": "[encoded data removed]",
            "text/plain": [
              "<Figure size 432x288 with 1 Axes>"
            ]
          },
          "metadata": {
            "tags": [],
            "needs_background": "light"
          }
        }
      ]
    },
    {
      "cell_type": "markdown",
      "metadata": {
        "id": "HP750zy87TjD"
      },
      "source": [
        "Παρατηρούμε λοιπόν ότι ο dummy 0 αρχικά δίνει το καλύτερο αποτέλεσμα,το οποίο είναι αναμενόμενο. Οι υπόλοιποι εκτιμητές, εκτός από τους υπόλοιπους dummies, δεν είναι σε θέση να εκπαιδευτούν επαρκώς, μάλιστα παρατηρούμε ότι στους mlp και svm δεν φτάνουν καν σε σύγλιση. Αυτό μας δίνει δηλαδή περιθώριο να βελτιώσουμε την ποιότητα των δεδομένων πριν καλέσουμε τους estimators. Στους estimators knn,mlp και svc πηραμε ως μετρική το macro λόγω ανομοιογενούς συνόλο δεδομένων.Επιλάξαμε το macro το οποιο ειναι η μεση τιμη των f1 scores για 0 kai 1.\r\n",
        "\r\n"
      ]
    },
    {
      "cell_type": "markdown",
      "metadata": {
        "id": "EEj8va95BG8G"
      },
      "source": [
        "## Classifier Optimization"
      ]
    },
    {
      "cell_type": "markdown",
      "metadata": {
        "id": "ic-2bYe3BM_A"
      },
      "source": [
        "Προεπεξεργασία Δεδομένων\r\n",
        "\r\n",
        "---\r\n",
        "\r\n",
        "Αρχικά ελέγξαμε την επίδραση που έχει το preprocessing στην απόδοση των estimators. Ειδικότερα, αρχικά έγινε RandomOverSampling , όμως παρατηρήσαμε το αποτέλεσμα δεν βελτιωνόταν και μεγάλωνε πολύ το train set μας, καθώς είχαμε λίγες τιμές για την κλάση 1 οπότε σχεδόν διπλασιαζόταν το train χωρίς να υπάρχει διαφορετικότητα στις μεταβλητές στην ουσία. Υλοιποιήθηκε για αυτόν το σκοπό ένα manual, στην οποία διατρέχουμε το συνολικό dataset και επιλέγουμε διαφορετικά στοιχεία κλάσης 1 μέχρις ότου γίνουν ίσα με αυτά της 0. Επιτυγχάνουμε έτσι 50-50 balance και τα δεδομένα εμπεριέχουν μεγάλη διαφορετικότητα. "
      ]
    },
    {
      "cell_type": "code",
      "metadata": {
        "id": "Ft9BRdUeniDV",
        "colab": {
          "base_uri": "https://localhost:8080/"
        },
        "outputId": "3441739e-77a9-48b8-cf3a-d0f093c5cd44"
      },
      "source": [
        "data = np.asarray(data_i)\n",
        "\n",
        "unique, counts = np.unique(y_train, return_counts= True)\n",
        "print(counts[0], counts[1])\n",
        "i= 0\n",
        "while (counts[0]!= counts[1]):\n",
        "  i = i+1\n",
        "  if (data[i][-1] == 1.0):\n",
        "    y_train = np.append(y_train, data[i][-1])\n",
        "    X_train = np.append(X_train, data[i][:-1])\n",
        "  unique, counts = np.unique(y_train, return_counts= True)\n",
        "\n",
        "print(np.unique(y_train, return_counts = True))\n",
        "#data_sh = shuffle(data)\n",
        "gamw = int(len(X_train)/64)\n",
        "print(gamw)\n",
        "X_train = np.reshape(X_train, (gamw, 64))\n",
        "print(y_train.shape)"
      ],
      "execution_count": null,
      "outputs": [
        {
          "output_type": "stream",
          "text": [
            "1317 83\n",
            "(array([0., 1.]), array([1317, 1317]))\n",
            "2634\n",
            "(2634,)\n"
          ],
          "name": "stdout"
        }
      ]
    },
    {
      "cell_type": "code",
      "metadata": {
        "colab": {
          "base_uri": "https://localhost:8080/"
        },
        "id": "du7DLWBYWMqN",
        "outputId": "e8a1ebc5-2393-42d1-cbe1-ee7abae15667"
      },
      "source": [
        "from sklearn.feature_selection import VarianceThreshold\n",
        "\n",
        "selector = VarianceThreshold(threshold=0.5)\n",
        "train_reduced = selector.fit_transform(X_train)\n",
        "mask = selector.get_support()\n",
        "test_reduced = X_test[:,mask]\n",
        "\n",
        "print(train_reduced.shape)\n",
        "print(test_reduced.shape)\n"
      ],
      "execution_count": null,
      "outputs": [
        {
          "output_type": "stream",
          "text": [
            "(2634, 64)\n",
            "(600, 64)\n"
          ],
          "name": "stdout"
        }
      ]
    },
    {
      "cell_type": "code",
      "metadata": {
        "id": "gYE575p9JK0l"
      },
      "source": [
        "from sklearn import preprocessing\n",
        "from sklearn.preprocessing import MinMaxScaler, StandardScaler\n",
        "scaler = MinMaxScaler()\n",
        "\n",
        "min_max_scaler = preprocessing.StandardScaler()\n",
        "X_train_minmax = min_max_scaler.fit_transform(train_reduced)\n",
        "X_test_minmax = min_max_scaler.transform(test_reduced)"
      ],
      "execution_count": null,
      "outputs": []
    },
    {
      "cell_type": "code",
      "metadata": {
        "colab": {
          "base_uri": "https://localhost:8080/"
        },
        "id": "QnWMITZ2mYev",
        "outputId": "28bdd361-1d6a-4af4-dd25-a29f7a864bb8"
      },
      "source": [
        "from sklearn.decomposition import PCA\n",
        "n = 13\n",
        "pca = PCA(n_components=n)\n",
        "trainPCA = pca.fit_transform(X_train_minmax)\n",
        "testPCA = pca.transform(X_test_minmax)\n",
        "print(X_train_minmax.shape)\n",
        "print(trainPCA.shape)\n",
        "print(\"\")\n",
        "print(X_test_minmax.shape)\n",
        "print(testPCA.shape)"
      ],
      "execution_count": null,
      "outputs": [
        {
          "output_type": "stream",
          "text": [
            "(2634, 64)\n",
            "(2634, 13)\n",
            "\n",
            "(600, 64)\n",
            "(600, 13)\n"
          ],
          "name": "stdout"
        }
      ]
    },
    {
      "cell_type": "code",
      "metadata": {
        "colab": {
          "base_uri": "https://localhost:8080/"
        },
        "id": "5TvSyPmYAwii",
        "outputId": "e1236721-e2c4-4748-d298-0ed6c2ece1b4"
      },
      "source": [
        "knn = KNeighborsClassifier(n_neighbors=3)\r\n",
        "\r\n",
        "knn.fit(trainPCA, y_train.ravel())\r\n",
        "pred = knn.predict(testPCA)\r\n",
        "print(\"f1 micro is\", f1_score(y_test.ravel(), pred, average = 'micro'))\r\n",
        "print(\"f1 macro is\", f1_score(y_test.ravel(), pred, average = 'macro'))\r\n",
        "\r\n",
        "\r\n",
        "print(classification_report(y_test, pred))\r\n",
        "print(confusion_matrix(y_test, pred))\r\n",
        "\r\n",
        "knn_pre = []\r\n",
        "knn_pre.append(f1_score(y_test, pred, average='micro'))\r\n",
        "knn_pre.append(f1_score(y_test, pred, average = 'macro'))\r\n",
        "knn_pre.append(f1_score(y_test, pred, average = 'weighted'))"
      ],
      "execution_count": null,
      "outputs": [
        {
          "output_type": "stream",
          "text": [
            "f1 micro is 0.595\n",
            "f1 macro is 0.44089732528041414\n",
            "              precision    recall  f1-score   support\n",
            "\n",
            "         0.0       0.99      0.59      0.73       574\n",
            "         1.0       0.08      0.81      0.15        26\n",
            "\n",
            "    accuracy                           0.59       600\n",
            "   macro avg       0.53      0.70      0.44       600\n",
            "weighted avg       0.95      0.59      0.71       600\n",
            "\n",
            "[[336 238]\n",
            " [  5  21]]\n"
          ],
          "name": "stdout"
        }
      ]
    },
    {
      "cell_type": "code",
      "metadata": {
        "colab": {
          "base_uri": "https://localhost:8080/"
        },
        "id": "bdGuRhsQCB3d",
        "outputId": "7e19f965-6a00-4dce-9d18-8c49b3403362"
      },
      "source": [
        "clf = MLPClassifier(solver='adam', alpha=0.001, activation = 'relu', \n",
        "                    hidden_layer_sizes=(3,), random_state=1123, learning_rate_init = 0.001, max_iter= 10)\n",
        "clf.fit(trainPCA, y_train.ravel())\n",
        "preds = clf.predict(testPCA)\n",
        "print(\"F1 score for MLP is :\",f1_score(preds, y_test))\n",
        "print(classification_report(y_test.ravel(), preds))\n",
        "print(confusion_matrix(y_test, preds))\n",
        "\n",
        "\n",
        "mlp_pre=[]\n",
        "mlp_pre.append(f1_score(y_test, preds, average='micro'))\n",
        "mlp_pre.append(f1_score(y_test, preds, average = 'macro'))\n",
        "mlp_pre.append(f1_score(y_test, preds, average = 'weighted'))\n",
        "print(mlp_pre)"
      ],
      "execution_count": null,
      "outputs": [
        {
          "output_type": "stream",
          "text": [
            "F1 score for MLP is : 0.11764705882352941\n",
            "              precision    recall  f1-score   support\n",
            "\n",
            "         0.0       0.96      0.99      0.97       574\n",
            "         1.0       0.25      0.08      0.12        26\n",
            "\n",
            "    accuracy                           0.95       600\n",
            "   macro avg       0.60      0.53      0.55       600\n",
            "weighted avg       0.93      0.95      0.94       600\n",
            "\n",
            "[[568   6]\n",
            " [ 24   2]]\n",
            "[0.9500000000000001, 0.5459590354151952, 0.9371506407022498]\n"
          ],
          "name": "stdout"
        },
        {
          "output_type": "stream",
          "text": [
            "/usr/local/lib/python3.6/dist-packages/sklearn/neural_network/_multilayer_perceptron.py:585: ConvergenceWarning: Stochastic Optimizer: Maximum iterations (10) reached and the optimization hasn't converged yet.\n",
            "  % self.max_iter, ConvergenceWarning)\n"
          ],
          "name": "stderr"
        }
      ]
    },
    {
      "cell_type": "code",
      "metadata": {
        "colab": {
          "base_uri": "https://localhost:8080/"
        },
        "id": "joDnMEMVGMss",
        "outputId": "4cd54b08-959a-415d-a969-f54a2ac4156c"
      },
      "source": [
        "clf = SVC()\n",
        "clf.fit(trainPCA, y_train.ravel())\n",
        "preds = clf.predict(testPCA)\n",
        "print(classification_report(y_test.ravel(), preds))\n",
        "print(confusion_matrix(y_test, preds))\n",
        "\n",
        "svc_pre=[]\n",
        "svc_pre.append(f1_score(y_test, preds, average='micro'))\n",
        "svc_pre.append(f1_score(y_test, preds, average = 'macro'))\n",
        "svc_pre.append(f1_score(y_test, preds, average = 'weighted'))\n",
        "print(svc_pre)"
      ],
      "execution_count": null,
      "outputs": [
        {
          "output_type": "stream",
          "text": [
            "              precision    recall  f1-score   support\n",
            "\n",
            "         0.0       0.98      0.63      0.77       574\n",
            "         1.0       0.09      0.77      0.16        26\n",
            "\n",
            "    accuracy                           0.64       600\n",
            "   macro avg       0.54      0.70      0.46       600\n",
            "weighted avg       0.94      0.64      0.74       600\n",
            "\n",
            "[[364 210]\n",
            " [  6  20]]\n",
            "[0.64, 0.4637182203389831, 0.7445391949152542]\n"
          ],
          "name": "stdout"
        }
      ]
    },
    {
      "cell_type": "code",
      "metadata": {
        "colab": {
          "base_uri": "https://localhost:8080/"
        },
        "id": "uJ5C_-bAF1CX",
        "outputId": "91eb615e-ca30-4144-a473-279b1b36dbc0"
      },
      "source": [
        "clf = LinearSVC(random_state=0, max_iter=500)\n",
        "clf.fit(trainPCA, y_train.ravel())\n",
        "preds = clf.predict(testPCA)\n",
        "print(classification_report(y_test.ravel(), preds))\n",
        "print(confusion_matrix(y_test, preds))\n",
        "\n",
        "svc_linear_pre=[]\n",
        "svc_linear_pre.append(f1_score(y_test, preds, average='micro'))\n",
        "svc_linear_pre.append(f1_score(y_test, preds, average = 'macro'))\n",
        "svc_linear_pre.append(f1_score(y_test, preds, average = 'weighted'))\n",
        "print(svc_linear_pre)"
      ],
      "execution_count": null,
      "outputs": [
        {
          "output_type": "stream",
          "text": [
            "              precision    recall  f1-score   support\n",
            "\n",
            "         0.0       0.98      0.68      0.80       574\n",
            "         1.0       0.10      0.77      0.17        26\n",
            "\n",
            "    accuracy                           0.68       600\n",
            "   macro avg       0.54      0.72      0.49       600\n",
            "weighted avg       0.95      0.68      0.78       600\n",
            "\n",
            "[[389 185]\n",
            " [  6  20]]\n",
            "[0.6816666666666666, 0.48802487502177905, 0.7756013027220457]\n"
          ],
          "name": "stdout"
        },
        {
          "output_type": "stream",
          "text": [
            "/usr/local/lib/python3.6/dist-packages/sklearn/svm/_base.py:977: ConvergenceWarning: Liblinear failed to converge, increase the number of iterations.\n",
            "  \"the number of iterations.\", ConvergenceWarning)\n"
          ],
          "name": "stderr"
        }
      ]
    },
    {
      "cell_type": "markdown",
      "metadata": {
        "id": "F8tFd6drJvtd"
      },
      "source": [
        "### Plots της προεπεξεργασίας\r\n"
      ]
    },
    {
      "cell_type": "code",
      "metadata": {
        "id": "PrZa6QboJx_1"
      },
      "source": [
        "def print_plots(a,b,v):\r\n",
        "  fig = plt.figure()\r\n",
        "  langs = ['Micro', 'Macro', 'Weighted']\r\n",
        "  X = np.arange(3)\r\n",
        "  ax = fig.add_axes([0,0,1,1])\r\n",
        "  ax.bar(X + 0.25, a, color = 'b', width = 0.25,label='Before')\r\n",
        "  ax.bar(X + 0.5, b, color = 'r', width = 0.25,label=\"after\")\r\n",
        "  plt.xticks(X + 0.75/2 , langs)\r\n",
        "  plt.title(v)\r\n",
        "  plt.legend()\r\n",
        "  plt.show()"
      ],
      "execution_count": null,
      "outputs": []
    },
    {
      "cell_type": "code",
      "metadata": {
        "colab": {
          "base_uri": "https://localhost:8080/",
          "height": 1000
        },
        "id": "NtB8JqbIJzMX",
        "outputId": "34114916-1943-449e-ed2e-db98faf898a1"
      },
      "source": [
        "print_plots(knn_before,knn_pre,\"KNN\")\r\n",
        "print_plots(mlp_before,mlp_pre,\"MLP\")\r\n",
        "print_plots(svc_before,svc_pre,\"SVC\")\r\n",
        "print_plots(svc_linear_before,svc_linear_pre,\"SVC LINEAR\")"
      ],
      "execution_count": null,
      "outputs": [
        {
          "output_type": "display_data",
          "data": {
            "image/png": "[encoded data removed]",
            "text/plain": [
              "<Figure size 432x288 with 1 Axes>"
            ]
          },
          "metadata": {
            "tags": [],
            "needs_background": "light"
          }
        },
        {
          "output_type": "display_data",
          "data": {
            "image/png": "[encoded data removed]",
            "text/plain": [
              "<Figure size 432x288 with 1 Axes>"
            ]
          },
          "metadata": {
            "tags": [],
            "needs_background": "light"
          }
        },
        {
          "output_type": "display_data",
          "data": {
            "image/png": "[encoded data removed]",
            "text/plain": [
              "<Figure size 432x288 with 1 Axes>"
            ]
          },
          "metadata": {
            "tags": [],
            "needs_background": "light"
          }
        },
        {
          "output_type": "display_data",
          "data": {
            "image/png": "[encoded data removed]",
            "text/plain": [
              "<Figure size 432x288 with 1 Axes>"
            ]
          },
          "metadata": {
            "tags": [],
            "needs_background": "light"
          }
        }
      ]
    },
    {
      "cell_type": "markdown",
      "metadata": {
        "id": "PYQyT8QIeTnr"
      },
      "source": [
        "### Grid Search"
      ]
    },
    {
      "cell_type": "code",
      "metadata": {
        "id": "Arc-ndyjkI6J",
        "colab": {
          "base_uri": "https://localhost:8080/"
        },
        "outputId": "4f27e9df-28f5-4eb2-ff7c-bb3a1e3ef39a"
      },
      "source": [
        "selector = VarianceThreshold()\n",
        "scaler =StandardScaler()\n",
        "ros = RandomOverSampler()\n",
        "pca = PCA(n_components = 43)\n",
        "clf = neighbors.KNeighborsClassifier(n_jobs=-1)\n",
        "k=[]\n",
        "for i in range (1,60,3):\n",
        "  k.append(i)\n",
        "weights=['uniform', 'distance']\n",
        "metric=['euclidean','manhattan','chebyshev','minkowski','wminkowski','mahalanobis' ,'seuclidean']\n",
        "#, ('sampler', ros) meta ton scaler , ,('pca', pca)\n",
        "pipe = Pipeline(steps=[('selector', selector), ('scaler', scaler), ('kNN', clf)],memory = 'tmp')\n",
        "estimator = GridSearchCV(pipe, dict( kNN__n_neighbors=k, kNN__weights= weights,kNN__metric= metric), cv=5, scoring='f1_macro', n_jobs=-1)\n",
        "start_time = time.time()\n",
        "estimator.fit(X_train, y_train)\n",
        "preds = estimator.predict(X_test)\n",
        "times = []\n",
        "times.append(time.time() - start_time)\n",
        "print(\"Συνολικός χρόνος fit και predict: %s seconds\" % (time.time() - start_time))\n",
        "print(classification_report(y_test, preds))\n",
        "print(confusion_matrix(y_test,preds))\n",
        "print(estimator.best_params_)\n",
        "knn_after=[] \n",
        "knn_after.append(f1_score(y_test, preds, average='micro'))\n",
        "knn_after.append(f1_score(y_test, preds, average = 'macro'))\n",
        "knn_after.append(f1_score(y_test, preds, average = 'weighted'))\n",
        "print(knn_after)"
      ],
      "execution_count": null,
      "outputs": [
        {
          "output_type": "stream",
          "text": [
            "Συνολικός χρόνος fit και predict: 119.73042249679565 seconds\n",
            "              precision    recall  f1-score   support\n",
            "\n",
            "         0.0       0.99      0.76      0.86       574\n",
            "         1.0       0.14      0.88      0.24        26\n",
            "\n",
            "    accuracy                           0.76       600\n",
            "   macro avg       0.57      0.82      0.55       600\n",
            "weighted avg       0.96      0.76      0.83       600\n",
            "\n",
            "[[435 139]\n",
            " [  3  23]]\n",
            "{'kNN__metric': 'manhattan', 'kNN__n_neighbors': 22, 'kNN__weights': 'distance'}\n",
            "[0.7633333333333333, 0.5521823227651165, 0.8330336669189583]\n"
          ],
          "name": "stdout"
        }
      ]
    },
    {
      "cell_type": "code",
      "metadata": {
        "id": "e-8RhMFCHwdr",
        "colab": {
          "base_uri": "https://localhost:8080/"
        },
        "outputId": "8297e517-f3b3-4853-b627-a9d5fbe0eb9c"
      },
      "source": [
        "selector = VarianceThreshold()\n",
        "scaler =StandardScaler()\n",
        "pca = PCA()\n",
        "mlp = MLPClassifier()\n",
        "\n",
        "\n",
        "parameter_space ={\n",
        "    'pca__n_components': [45],\n",
        "    'mlp__hidden_layer_sizes':[(10,),(20,),(30,)],\n",
        "    'mlp__activation' : ['identity', 'tanh', 'relu'],\n",
        "    'mlp__solver' : [ 'sgd', 'adam'],\n",
        "    'mlp__alpha': [0.05, 0.1, 0,4],\n",
        "    'mlp__learning_rate' : ['adaptive'],\n",
        "    'mlp__max_iter' : [500],\n",
        "}\n",
        "\n",
        "pipe = Pipeline(steps=[('selector', selector), ('scaler', scaler), ('pca', pca), ('mlp', mlp)],memory = 'tmp')\n",
        "\n",
        "mlp_estim = GridSearchCV(pipe, parameter_space,  cv=5, scoring='precision', n_jobs=-1)\n",
        "start_time = time.time()\n",
        "mlp_estim.fit(X_train, y_train)\n",
        "preds = mlp_estim.predict(X_test)\n",
        "times.append(time.time() - start_time)\n",
        "print(\"Συνολικός χρόνος fit και predict: %s seconds\" % (time.time() - start_time))\n",
        "print(classification_report(y_test, preds))\n",
        "\n",
        "print(mlp_estim.best_params_)\n",
        "print(confusion_matrix(y_test, preds))\n",
        "\n",
        "mlp_after=[]\n",
        "mlp_after.append(f1_score(y_test, preds, average='micro'))\n",
        "mlp_after.append(f1_score(y_test, preds, average = 'macro'))\n",
        "mlp_after.append(f1_score(y_test, preds, average = 'weighted'))\n",
        "print(mlp_after)"
      ],
      "execution_count": null,
      "outputs": [
        {
          "output_type": "stream",
          "text": [
            "Συνολικός χρόνος fit και predict: 693.7516448497772 seconds\n",
            "              precision    recall  f1-score   support\n",
            "\n",
            "         0.0       0.99      0.76      0.86       574\n",
            "         1.0       0.15      0.88      0.25        26\n",
            "\n",
            "    accuracy                           0.77       600\n",
            "   macro avg       0.57      0.82      0.56       600\n",
            "weighted avg       0.96      0.77      0.84       600\n",
            "\n",
            "{'mlp__activation': 'relu', 'mlp__alpha': 0, 'mlp__hidden_layer_sizes': (30,), 'mlp__learning_rate': 'adaptive', 'mlp__max_iter': 500, 'mlp__solver': 'adam', 'pca__n_components': 45}\n",
            "[[439 135]\n",
            " [  3  23]]\n",
            "[0.7699999999999999, 0.5570866141732285, 0.8375590551181104]\n"
          ],
          "name": "stdout"
        },
        {
          "output_type": "stream",
          "text": [
            "/usr/local/lib/python3.6/dist-packages/sklearn/neural_network/_multilayer_perceptron.py:585: ConvergenceWarning: Stochastic Optimizer: Maximum iterations (500) reached and the optimization hasn't converged yet.\n",
            "  % self.max_iter, ConvergenceWarning)\n"
          ],
          "name": "stderr"
        }
      ]
    },
    {
      "cell_type": "code",
      "metadata": {
        "colab": {
          "base_uri": "https://localhost:8080/"
        },
        "id": "4Y6bu5zuEkQY",
        "outputId": "423675d8-6d39-4a96-a5f1-c208a71d67df"
      },
      "source": [
        "from sklearn.pipeline import Pipeline\n",
        "from sklearn.svm import LinearSVC\n",
        "from sklearn.model_selection import GridSearchCV\n",
        "from sklearn.preprocessing import StandardScaler\n",
        "from sklearn.datasets import load_digits\n",
        "SVCpipe = Pipeline([('scale', StandardScaler()),\n",
        "                   ('svc',LinearSVC())])\n",
        "\n",
        "\n",
        "param_grid = {'svc__C': [30, 49, 50, 55],\n",
        "              'svc__tol': [0.1, 1],\n",
        "              'svc__penalty':['l1','l2'],\n",
        "              'svc__loss': ['squared_hinge','hinge'],\n",
        "              'svc__max_iter':[5000],\n",
        "              }\n",
        "linearSVC = GridSearchCV(SVCpipe,param_grid,cv=5,scoring = 'f1', n_jobs= -1)\n",
        "start_time = time.time()\n",
        "linearSVC.fit(X_train,y_train.ravel())\n",
        "print(linearSVC.best_params_)\n",
        "preds = linearSVC.predict(X_test)\n",
        "times.append(time.time() - start_time)\n",
        "print(classification_report(y_test, preds))\n",
        "print(confusion_matrix(y_test, preds))\n",
        "\n",
        "\n",
        "svc_linear_after=[]\n",
        "svc_linear_after.append(f1_score(y_test, preds, average='micro'))\n",
        "svc_linear_after.append(f1_score(y_test, preds, average = 'macro'))\n",
        "svc_linear_after.append(f1_score(y_test, preds, average = 'weighted'))\n",
        "print(svc_linear_after)\n"
      ],
      "execution_count": null,
      "outputs": [
        {
          "output_type": "stream",
          "text": [
            "{'svc__C': 49, 'svc__loss': 'hinge', 'svc__max_iter': 5000, 'svc__penalty': 'l2', 'svc__tol': 0.1}\n",
            "              precision    recall  f1-score   support\n",
            "\n",
            "         0.0       0.99      0.66      0.79       574\n",
            "         1.0       0.10      0.85      0.18        26\n",
            "\n",
            "    accuracy                           0.66       600\n",
            "   macro avg       0.54      0.75      0.48       600\n",
            "weighted avg       0.95      0.66      0.76       600\n",
            "\n",
            "[[376 198]\n",
            " [  4  22]]\n",
            "[0.6633333333333333, 0.48356087334458253, 0.7618527040616317]\n"
          ],
          "name": "stdout"
        },
        {
          "output_type": "stream",
          "text": [
            "/usr/local/lib/python3.6/dist-packages/sklearn/svm/_base.py:977: ConvergenceWarning: Liblinear failed to converge, increase the number of iterations.\n",
            "  \"the number of iterations.\", ConvergenceWarning)\n"
          ],
          "name": "stderr"
        }
      ]
    },
    {
      "cell_type": "code",
      "metadata": {
        "id": "rGH-7fkB7l-n",
        "colab": {
          "base_uri": "https://localhost:8080/"
        },
        "outputId": "4007f0c3-f70f-4f4f-cc31-2b3283f16563"
      },
      "source": [
        "print(X_train.shape) \n",
        "param_grid = {'C': [3, 1,8],  \n",
        "              'gamma': ['scale', 'auto'], \n",
        "              'tol': [0.1, 1, 1.3],\n",
        "              'kernel': ['rbf']}  \n",
        "  \n",
        "grid = GridSearchCV(SVC(), param_grid,scoring='precision', n_jobs = -1) \n",
        "start_time = time.time()\n",
        "grid.fit(X_train, y_train.ravel())\n",
        "preds = grid.predict(X_test)\n",
        "times.append(time.time() - start_time)\n",
        "print(\"Συνολικός χρόνος fit και prdict: %s secoends\" % (time.time() - start_time))\n",
        "print(classification_report(y_test.ravel(), preds))\n",
        "\n",
        "print(grid.best_params_)\n",
        "print(confusion_matrix(y_test, preds))\n",
        "\n",
        "svc_after=[]\n",
        "svc_after.append(f1_score(y_test, preds, average='micro'))\n",
        "svc_after.append(f1_score(y_test, preds, average = 'macro'))\n",
        "svc_after.append(f1_score(y_test, preds, average = 'weighted'))\n",
        "print(svc_linear_after)"
      ],
      "execution_count": null,
      "outputs": [
        {
          "output_type": "stream",
          "text": [
            "(2634, 64)\n",
            "Συνολικός χρόνος fit και prdict: 37.67735576629639 secoends\n",
            "              precision    recall  f1-score   support\n",
            "\n",
            "         0.0       0.98      1.00      0.99       574\n",
            "         1.0       0.88      0.54      0.67        26\n",
            "\n",
            "    accuracy                           0.98       600\n",
            "   macro avg       0.93      0.77      0.83       600\n",
            "weighted avg       0.97      0.98      0.97       600\n",
            "\n",
            "{'C': 1, 'gamma': 'auto', 'kernel': 'rbf', 'tol': 1}\n",
            "[[572   2]\n",
            " [ 12  14]]\n",
            "[0.6633333333333333, 0.48356087334458253, 0.7618527040616317]\n"
          ],
          "name": "stdout"
        }
      ]
    },
    {
      "cell_type": "code",
      "metadata": {
        "colab": {
          "base_uri": "https://localhost:8080/"
        },
        "id": "n_9uLrMIR2u_",
        "outputId": "5c3e7c4c-a877-40ed-de8b-f27eeb4e4b86"
      },
      "source": [
        "SVCpipe = Pipeline([('scale', StandardScaler()),\n",
        "                   ('svc',SVC())])\n",
        "param_grid = {'svc__C': [750, 1000, 1500],  \n",
        "              'svc__gamma': ['scale','auto'],               'svc__tol': [0.1, 1, 0.01] ,\n",
        "              'svc__kernel': ['poly'],\n",
        "              'svc__degree':[1, 3, 8]}  \n",
        "\n",
        "\n",
        "grid = GridSearchCV(SVCpipe, param_grid,scoring='f1', n_jobs= -1) \n",
        "start_time = time.time()\n",
        "grid.fit(X_train, y_train.ravel())\n",
        "preds = grid.predict(X_test)\n",
        "times.append(time.time() - start_time)\n",
        "print(\"Συνολικός χρόνος fit και predict: %s seconds\" % (time.time() - start_time))\n",
        "print(classification_report(y_test, preds))\n",
        "\n",
        "\n",
        "print(grid.best_params_)\n",
        "print(confusion_matrix(y_test, preds))\n"
      ],
      "execution_count": null,
      "outputs": [
        {
          "output_type": "stream",
          "text": [
            "Συνολικός χρόνος fit και predict: 166.6749393939972 seconds\n",
            "              precision    recall  f1-score   support\n",
            "\n",
            "         0.0       0.99      0.61      0.75       574\n",
            "         1.0       0.09      0.88      0.17        26\n",
            "\n",
            "    accuracy                           0.62       600\n",
            "   macro avg       0.54      0.75      0.46       600\n",
            "weighted avg       0.95      0.62      0.73       600\n",
            "\n",
            "{'svc__C': 1000, 'svc__degree': 1, 'svc__gamma': 'auto', 'svc__kernel': 'poly', 'svc__tol': 1}\n",
            "[[348 226]\n",
            " [  3  23]]\n"
          ],
          "name": "stdout"
        }
      ]
    },
    {
      "cell_type": "code",
      "metadata": {
        "colab": {
          "base_uri": "https://localhost:8080/"
        },
        "id": "dfOXnlpXe7X-",
        "outputId": "e5f9684b-c80d-4588-c423-9f44edb15057"
      },
      "source": [
        "# defining parameter range\n",
        "\n",
        "SVCpipe = Pipeline([('scale', StandardScaler()),\n",
        "                   ('svc',SVC())])\n",
        "param_grid = {'svc__C': [750, 1000, 1500],  \n",
        "              'svc__gamma': ['scale','auto'], \n",
        "              'svc__tol': [0.1, 1, 0.01] ,\n",
        "              'svc__kernel': ['poly'],\n",
        "              'svc__degree':[1, 3, 8]}  \n",
        "\n",
        "# X_train = preprocessing.scale(X_train)\n",
        "# X_test = preprocessing.scale(X_test)\n",
        "\n",
        "grid = GridSearchCV(SVCpipe, param_grid,scoring='f1', n_jobs= -1) \n",
        "start_time = time.time()\n",
        "grid.fit(X_train, y_train.ravel())\n",
        "preds = grid.predict(X_test)\n",
        "print(\"Συνολικός χρόνος fit και predict: %s seconds\" % (time.time() - start_time))\n",
        "print(classification_report(y_test.ravel(), preds))\n",
        "\n",
        "\n",
        "print(grid.best_params_)\n",
        "print(confusion_matrix(y_test, preds))"
      ],
      "execution_count": null,
      "outputs": [
        {
          "output_type": "stream",
          "text": [
            "Συνολικός χρόνος fit και predict: 50.907185077667236 seconds\n",
            "              precision    recall  f1-score   support\n",
            "\n",
            "         0.0       0.96      0.98      0.97       574\n",
            "         1.0       0.36      0.19      0.25        26\n",
            "\n",
            "    accuracy                           0.95       600\n",
            "   macro avg       0.66      0.59      0.61       600\n",
            "weighted avg       0.94      0.95      0.94       600\n",
            "\n",
            "{'svc__C': 750, 'svc__degree': 3, 'svc__gamma': 'scale', 'svc__kernel': 'poly', 'svc__tol': 1}\n",
            "[[565   9]\n",
            " [ 21   5]]\n"
          ],
          "name": "stdout"
        }
      ]
    },
    {
      "cell_type": "code",
      "metadata": {
        "colab": {
          "base_uri": "https://localhost:8080/",
          "height": 1000
        },
        "id": "b50VE5_uJoY2",
        "outputId": "42240a3f-327f-4423-da8e-4d0459aa610c"
      },
      "source": [
        "print_plots(knn_before,knn_after,\"KNN\")\n",
        "print_plots(mlp_before,mlp_after,\"MLP\")\n",
        "print_plots(svc_before,svc_after,\"SVC\")\n",
        "print_plots(svc_linear_before,svc_linear_after,\"SVC LINEAR\")"
      ],
      "execution_count": null,
      "outputs": [
        {
          "output_type": "display_data",
          "data": {
            "image/png": "[encoded data removed]",
            "text/plain": [
              "<Figure size 432x288 with 1 Axes>"
            ]
          },
          "metadata": {
            "tags": [],
            "needs_background": "light"
          }
        },
        {
          "output_type": "display_data",
          "data": {
            "image/png": "[encoded data removed]",
            "text/plain": [
              "<Figure size 432x288 with 1 Axes>"
            ]
          },
          "metadata": {
            "tags": [],
            "needs_background": "light"
          }
        },
        {
          "output_type": "display_data",
          "data": {
            "image/png": "[encoded data removed]",
            "text/plain": [
              "<Figure size 432x288 with 1 Axes>"
            ]
          },
          "metadata": {
            "tags": [],
            "needs_background": "light"
          }
        },
        {
          "output_type": "display_data",
          "data": {
            "image/png": "[encoded data removed]",
            "text/plain": [
              "<Figure size 432x288 with 1 Axes>"
            ]
          },
          "metadata": {
            "tags": [],
            "needs_background": "light"
          }
        }
      ]
    },
    {
      "cell_type": "code",
      "metadata": {
        "colab": {
          "base_uri": "https://localhost:8080/",
          "height": 352
        },
        "id": "uY4OJVckVOeJ",
        "outputId": "ea4c6514-044c-494d-f2c5-0e2a3812f3ff"
      },
      "source": [
        "p=[0.1 ,0.245 , 6.7 , 7.5]\r\n",
        "\r\n",
        "fig = plt.figure()\r\n",
        "ax = fig.add_axes([0,0,1,1])\r\n",
        "langs = [ 'Knn', 'MLP', 'LinearSVM', 'SVC']\r\n",
        "y1 = times\r\n",
        "#y1 = [bank_accuracy['uniform (random)'], bank_accuracy['constant 0'], bank_accuracy['constant 1'],bank_accuracy['stratified'], gnb_before[1], knn_before[1], mlp_before[1],svc_linear_before[1], svc_before[1]]\r\n",
        "ax.bar(langs,y1)\r\n",
        "plt.title(\"Comparison between times for every estimator \")\r\n",
        "plt.show()"
      ],
      "execution_count": null,
      "outputs": [
        {
          "output_type": "display_data",
          "data": {
            "image/png": "[encoded data removed]",
            "text/plain": [
              "<Figure size 432x288 with 1 Axes>"
            ]
          },
          "metadata": {
            "tags": [],
            "needs_background": "light"
          }
        }
      ]
    },
    {
      "cell_type": "markdown",
      "metadata": {
        "id": "UsSwEHx0exTO"
      },
      "source": [
        "Πραγματοποιήθηκε grid searche σε μεγάλο εύρος υπερπαραμέτρων με σκοπο την βελτιστοποίηση της μετρικής f1 macro λογο της μεγαλης ανομοιογενειας των δεδομενών . Παρατηρουμε πτώση στο accuracy-micro αλλα βελτίωση στο macro, αυτο συμβένει διότι ενώ αρχικά \"εκπαιδευόταν\" να προβλέπει κυρίως τα 0 και το τrain set ηταν κατα 95% μηδενικα έφτανε σε overfiting επιτυνχανοντας πολυ καλο micro αλλα δεν ειχε την δυνατότητα να προβλέπει τους ασσους( 7-10% accuracy ασσους). Μετά το prepoccessing και το gridsearch το μοντέλο μαθαίνει καλύτερα να προβλέπει τους άσσους αλλα μικραίνει το accuracy στα μηδενικα, με αποτέλεσμα να έχουμε χειρότερο micro και καλύτερο macro.\r\n",
        "\r\n",
        "\r\n",
        "Γενικά, αν θεωρείται πιο επικίνδυνη η πτώχευση μιας εταιρείας από τη μη πτώχευση, καλύτερο θα ήταν να κοιτάμε μόνο τους άσσους και να μεγιστοπούμε το accuracy στην προβλεψή τους, αψηφώντας τα μηδενικά. Έτσι ίσως να φτάναμε σε \"ακραία κινδυνολογία\" δηλαδή θα προβλέπαμε πτώχευση και σε \"ασφαλείς\" επιχειρήσεις.  "
      ]
    }
  ]
}